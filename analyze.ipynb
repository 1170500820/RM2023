{
 "cells": [
  {
   "cell_type": "markdown",
   "id": "2e98106a-38fa-4956-80b3-40a603815893",
   "metadata": {
    "tags": []
   },
   "source": [
    "# 环境配置"
   ]
  },
  {
   "cell_type": "markdown",
   "id": "c458d556-912d-44a5-889f-88ad29e1fe25",
   "metadata": {},
   "source": [
    "## 导入包、配置路径"
   ]
  },
  {
   "cell_type": "code",
   "execution_count": 92,
   "id": "011def5a-fb92-49da-a3ef-535cef1877b1",
   "metadata": {},
   "outputs": [],
   "source": [
    "import pandas as pd\n",
    "import numpy as np\n",
    "import json\n",
    "from pandas import Series, DataFrame\n",
    "import matplotlib.pyplot as plt\n",
    "from tqdm import tqdm\n",
    "import matplotlib\n",
    "matplotlib.style.use('ggplot')\n",
    "pd.set_option('max_colwidth',50)\n",
    "import torch\n",
    "\n",
    "from loguru import logger"
   ]
  },
  {
   "cell_type": "code",
   "execution_count": 93,
   "id": "f22d17e2-7c29-4ab6-8f79-557dccbbf192",
   "metadata": {},
   "outputs": [],
   "source": [
    "fname = 'data/processed/train.jsonl'"
   ]
  },
  {
   "cell_type": "markdown",
   "id": "4cb7cf31-1359-4435-9da3-4f9a2cf79052",
   "metadata": {},
   "source": [
    "## 数据预处理"
   ]
  },
  {
   "cell_type": "markdown",
   "id": "ba2e4aaa-6a3c-4b47-9dba-a26f554436ef",
   "metadata": {},
   "source": [
    "### 读取"
   ]
  },
  {
   "cell_type": "code",
   "execution_count": 94,
   "id": "58a2a6b0-a992-416c-b4f4-6c1846df57cb",
   "metadata": {},
   "outputs": [],
   "source": [
    "d = list(json.loads(x) for x in open(fname, 'r', encoding='utf-8').read().strip().split('\\n'))\n",
    "df = pd.DataFrame(d)"
   ]
  },
  {
   "cell_type": "markdown",
   "id": "877b93c5-07e3-4ae9-bc7d-7753d1cae84c",
   "metadata": {
    "tags": []
   },
   "source": [
    "### 删除共现标签"
   ]
  },
  {
   "cell_type": "markdown",
   "id": "b05225fc-d72c-48bb-a2bb-bf5cb55df0ae",
   "metadata": {
    "tags": []
   },
   "source": [
    "#### 寻找共现标签"
   ]
  },
  {
   "cell_type": "code",
   "execution_count": 95,
   "id": "75ee3bd0-8051-4823-836f-7bb03c66f61b",
   "metadata": {},
   "outputs": [
    {
     "data": {
      "text/html": [
       "<div>\n",
       "<style scoped>\n",
       "    .dataframe tbody tr th:only-of-type {\n",
       "        vertical-align: middle;\n",
       "    }\n",
       "\n",
       "    .dataframe tbody tr th {\n",
       "        vertical-align: top;\n",
       "    }\n",
       "\n",
       "    .dataframe thead th {\n",
       "        text-align: right;\n",
       "    }\n",
       "</style>\n",
       "<table border=\"1\" class=\"dataframe\">\n",
       "  <thead>\n",
       "    <tr style=\"text-align: right;\">\n",
       "      <th></th>\n",
       "      <th>id</th>\n",
       "      <th>text</th>\n",
       "      <th>label</th>\n",
       "    </tr>\n",
       "  </thead>\n",
       "  <tbody>\n",
       "    <tr>\n",
       "      <th>0</th>\n",
       "      <td>0</td>\n",
       "      <td>原来是这样啊，又是一个新的道理，简直让我长知识了，七星连珠是很难得的一种现象，这个解析也太到位了</td>\n",
       "      <td>[label_878402]</td>\n",
       "    </tr>\n",
       "    <tr>\n",
       "      <th>1</th>\n",
       "      <td>1</td>\n",
       "      <td>老师好厉害，咱就是说，老师，能不能，就是，研究一下能不能穿越🙏 代入感很强，我已经想穿越去...</td>\n",
       "      <td>[label_878402]</td>\n",
       "    </tr>\n",
       "    <tr>\n",
       "      <th>2</th>\n",
       "      <td>2</td>\n",
       "      <td>这个七星连珠的现象居然真的存在，我只在小说上面看过，太神奇了吧，至于其他的我也不太懂，科学现...</td>\n",
       "      <td>[label_878402]</td>\n",
       "    </tr>\n",
       "    <tr>\n",
       "      <th>3</th>\n",
       "      <td>3</td>\n",
       "      <td>应该听过张老师讲，这一个的人都会觉得特别的清晰吧，而且也明白七星连珠不会引发危害。 ​</td>\n",
       "      <td>[label_878402]</td>\n",
       "    </tr>\n",
       "    <tr>\n",
       "      <th>4</th>\n",
       "      <td>4</td>\n",
       "      <td>七星连珠这不是应该是天文知识吗，怎么物理也可以，学霸的世界我果然不懂啊</td>\n",
       "      <td>[label_878402]</td>\n",
       "    </tr>\n",
       "    <tr>\n",
       "      <th>...</th>\n",
       "      <td>...</td>\n",
       "      <td>...</td>\n",
       "      <td>...</td>\n",
       "    </tr>\n",
       "    <tr>\n",
       "      <th>77309</th>\n",
       "      <td>77309</td>\n",
       "      <td>甘肃兰州2022年文化和自然遗产日主场城市活动亮点抢先看甘肃兰州2022年文化和自然遗产日主...</td>\n",
       "      <td>[label_82331]</td>\n",
       "    </tr>\n",
       "    <tr>\n",
       "      <th>77310</th>\n",
       "      <td>77310</td>\n",
       "      <td>《焦点访谈》 20220611 让文物活起来 国宝自己会“说话” 《焦点访谈》 202206...</td>\n",
       "      <td>[label_82331]</td>\n",
       "    </tr>\n",
       "    <tr>\n",
       "      <th>77311</th>\n",
       "      <td>77311</td>\n",
       "      <td>甘肃加大农机装备力量投入“三夏”生产网页链接</td>\n",
       "      <td>[label_82331]</td>\n",
       "    </tr>\n",
       "    <tr>\n",
       "      <th>77312</th>\n",
       "      <td>77312</td>\n",
       "      <td>小范书记们，村民都在等荐书 网页链接 ​​​</td>\n",
       "      <td>[label_82331]</td>\n",
       "    </tr>\n",
       "    <tr>\n",
       "      <th>77313</th>\n",
       "      <td>77313</td>\n",
       "      <td>主汛期洪涝、干旱风险高 甘肃坚持“宁可防空，不可空防” ​</td>\n",
       "      <td>[label_82331]</td>\n",
       "    </tr>\n",
       "  </tbody>\n",
       "</table>\n",
       "<p>77314 rows × 3 columns</p>\n",
       "</div>"
      ],
      "text/plain": [
       "          id                                               text  \\\n",
       "0          0   原来是这样啊，又是一个新的道理，简直让我长知识了，七星连珠是很难得的一种现象，这个解析也太到位了   \n",
       "1          1   老师好厉害，咱就是说，老师，能不能，就是，研究一下能不能穿越🙏 代入感很强，我已经想穿越去...   \n",
       "2          2  这个七星连珠的现象居然真的存在，我只在小说上面看过，太神奇了吧，至于其他的我也不太懂，科学现...   \n",
       "3          3        应该听过张老师讲，这一个的人都会觉得特别的清晰吧，而且也明白七星连珠不会引发危害。 ​   \n",
       "4          4                七星连珠这不是应该是天文知识吗，怎么物理也可以，学霸的世界我果然不懂啊   \n",
       "...      ...                                                ...   \n",
       "77309  77309  甘肃兰州2022年文化和自然遗产日主场城市活动亮点抢先看甘肃兰州2022年文化和自然遗产日主...   \n",
       "77310  77310  《焦点访谈》 20220611 让文物活起来 国宝自己会“说话” 《焦点访谈》 202206...   \n",
       "77311  77311                             甘肃加大农机装备力量投入“三夏”生产网页链接   \n",
       "77312  77312                             小范书记们，村民都在等荐书 网页链接 ​​​   \n",
       "77313  77313                      主汛期洪涝、干旱风险高 甘肃坚持“宁可防空，不可空防” ​   \n",
       "\n",
       "                label  \n",
       "0      [label_878402]  \n",
       "1      [label_878402]  \n",
       "2      [label_878402]  \n",
       "3      [label_878402]  \n",
       "4      [label_878402]  \n",
       "...               ...  \n",
       "77309   [label_82331]  \n",
       "77310   [label_82331]  \n",
       "77311   [label_82331]  \n",
       "77312   [label_82331]  \n",
       "77313   [label_82331]  \n",
       "\n",
       "[77314 rows x 3 columns]"
      ]
     },
     "execution_count": 95,
     "metadata": {},
     "output_type": "execute_result"
    }
   ],
   "source": [
    "df"
   ]
  },
  {
   "cell_type": "code",
   "execution_count": 96,
   "id": "dc8acf01-98d5-48b2-a3c8-0f5f5d1904eb",
   "metadata": {},
   "outputs": [
    {
     "name": "stderr",
     "output_type": "stream",
     "text": [
      "100%|██████████| 1399/1399 [00:35<00:00, 39.86it/s]\n"
     ]
    }
   ],
   "source": [
    "# 所有label的set\n",
    "label_set = set()\n",
    "for e in df['label']:\n",
    "    for e_label in e:\n",
    "        label_set.add(e_label)\n",
    "\n",
    "# 每一个label的出现的布尔值\n",
    "s = 77314\n",
    "label2bin = {}\n",
    "for e in tqdm(label_set):\n",
    "    position_v = np.zeros(s, dtype=int)\n",
    "    for i, row in enumerate(df['label']):\n",
    "        if e in row:\n",
    "            position_v[i] = 1\n",
    "    label2bin[e] = int(''.join(list(str(x) for x in position_v.tolist())), 2)\n"
   ]
  },
  {
   "cell_type": "code",
   "execution_count": 7,
   "id": "c6d9ac81-5926-4ca2-80f0-4b0c13f5ac6a",
   "metadata": {},
   "outputs": [],
   "source": [
    "label_list = sorted(list((v, k) for k, v in label2bin.items()))\n",
    "fingerprint2label = {}\n",
    "for k, v in label2bin.items():\n",
    "    if v not in fingerprint2label:\n",
    "        fingerprint2label[v] = [k]\n",
    "    else:\n",
    "        fingerprint2label[v].append(k)"
   ]
  },
  {
   "cell_type": "code",
   "execution_count": 8,
   "id": "3c556201-6a74-4675-966d-d80cef910945",
   "metadata": {},
   "outputs": [
    {
     "data": {
      "text/plain": [
       "[['label_1511186', 'label_200117'],\n",
       " ['label_1051923', 'label_1093165'],\n",
       " ['label_732973', 'label_324867'],\n",
       " ['label_377534', 'label_379674'],\n",
       " ['label_1525546', 'label_1112826'],\n",
       " ['label_1028847', 'label_414139'],\n",
       " ['label_1287165', 'label_654154'],\n",
       " ['label_1370355', 'label_1053744', 'label_425409'],\n",
       " ['label_823607', 'label_522067'],\n",
       " ['label_1267614', 'label_778062', 'label_797451'],\n",
       " ['label_192345',\n",
       "  'label_1452970',\n",
       "  'label_856086',\n",
       "  'label_316577',\n",
       "  'label_1159087',\n",
       "  'label_319988',\n",
       "  'label_1199707'],\n",
       " ['label_1172987', 'label_1092264'],\n",
       " ['label_164327', 'label_428832', 'label_1115848'],\n",
       " ['label_469605', 'label_1035661'],\n",
       " ['label_567947', 'label_560891'],\n",
       " ['label_892467', 'label_843277', 'label_330262', 'label_868542'],\n",
       " ['label_1102183', 'label_1432912'],\n",
       " ['label_45842', 'label_674088', 'label_309207', 'label_317424'],\n",
       " ['label_1101955', 'label_251474'],\n",
       " ['label_1276336', 'label_909265'],\n",
       " ['label_1146073', 'label_517046', 'label_1517472'],\n",
       " ['label_428087', 'label_672000'],\n",
       " ['label_865959', 'label_654469'],\n",
       " ['label_1036313', 'label_318589'],\n",
       " ['label_1452844', 'label_222168'],\n",
       " ['label_1197710', 'label_679243', 'label_1501958'],\n",
       " ['label_1432907', 'label_1092464', 'label_1479021'],\n",
       " ['label_861925', 'label_793742', 'label_398327'],\n",
       " ['label_1235849', 'label_1529699'],\n",
       " ['label_1116', 'label_1009191', 'label_556105'],\n",
       " ['label_746068', 'label_1267030'],\n",
       " ['label_1276050',\n",
       "  'label_19139',\n",
       "  'label_1074603',\n",
       "  'label_949072',\n",
       "  'label_62684',\n",
       "  'label_281926'],\n",
       " ['label_746147', 'label_1112302'],\n",
       " ['label_1366922', 'label_159334'],\n",
       " ['label_885654', 'label_403580'],\n",
       " ['label_884372', 'label_750035'],\n",
       " ['label_1313183', 'label_1176064'],\n",
       " ['label_113920',\n",
       "  'label_1229241',\n",
       "  'label_1141842',\n",
       "  'label_943710',\n",
       "  'label_809381'],\n",
       " ['label_655674', 'label_1372516'],\n",
       " ['label_3876', 'label_601282', 'label_803114'],\n",
       " ['label_880483',\n",
       "  'label_819270',\n",
       "  'label_1537582',\n",
       "  'label_300',\n",
       "  'label_1361222'],\n",
       " ['label_877133', 'label_857554'],\n",
       " ['label_1222361', 'label_456843'],\n",
       " ['label_48266', 'label_323831'],\n",
       " ['label_99990', 'label_1443623'],\n",
       " ['label_869417', 'label_961805'],\n",
       " ['label_322881', 'label_1153864'],\n",
       " ['label_717729', 'label_622235'],\n",
       " ['label_337634', 'label_319994'],\n",
       " ['label_950818', 'label_1509897'],\n",
       " ['label_1104416', 'label_712028'],\n",
       " ['label_876711', 'label_357707'],\n",
       " ['label_953963', 'label_307209'],\n",
       " ['label_1339872', 'label_1397521'],\n",
       " ['label_118903', 'label_449851'],\n",
       " ['label_1116777', 'label_295134'],\n",
       " ['label_522629', 'label_1218086', 'label_408834'],\n",
       " ['label_375781', 'label_1376489'],\n",
       " ['label_262782', 'label_1033096'],\n",
       " ['label_550586', 'label_1280282', 'label_372965'],\n",
       " ['label_125484', 'label_785796'],\n",
       " ['label_14386', 'label_754870'],\n",
       " ['label_248676', 'label_1195838'],\n",
       " ['label_305705', 'label_21304', 'label_186141', 'label_525426'],\n",
       " ['label_1213255', 'label_23745'],\n",
       " ['label_711856', 'label_25759'],\n",
       " ['label_191303', 'label_1452931'],\n",
       " ['label_1375567', 'label_1307588'],\n",
       " ['label_1430539', 'label_968027'],\n",
       " ['label_1105393', 'label_253397'],\n",
       " ['label_350979', 'label_1231593'],\n",
       " ['label_672019', 'label_1054312'],\n",
       " ['label_1010119', 'label_1254705'],\n",
       " ['label_1278419', 'label_494321'],\n",
       " ['label_1015332', 'label_975711'],\n",
       " ['label_38922',\n",
       "  'label_344458',\n",
       "  'label_863924',\n",
       "  'label_873759',\n",
       "  'label_1363953'],\n",
       " ['label_1205113',\n",
       "  'label_792135',\n",
       "  'label_391275',\n",
       "  'label_1063228',\n",
       "  'label_1286043'],\n",
       " ['label_1181247', 'label_439818', 'label_1203026'],\n",
       " ['label_1237204', 'label_995085', 'label_1012840', 'label_752013'],\n",
       " ['label_171615', 'label_1170344'],\n",
       " ['label_849155', 'label_54461'],\n",
       " ['label_1158259', 'label_1431573'],\n",
       " ['label_692928', 'label_151581', 'label_506480'],\n",
       " ['label_976289', 'label_1444521'],\n",
       " ['label_1466420', 'label_771397'],\n",
       " ['label_1391830', 'label_452521'],\n",
       " ['label_1103314', 'label_795995'],\n",
       " ['label_1299250', 'label_1491272'],\n",
       " ['label_34887', 'label_1141742'],\n",
       " ['label_534116', 'label_983142', 'label_494189'],\n",
       " ['label_596810', 'label_1113430'],\n",
       " ['label_499365', 'label_1285513'],\n",
       " ['label_678687', 'label_1425026'],\n",
       " ['label_1176954', 'label_1035314'],\n",
       " ['label_1157388', 'label_149561'],\n",
       " ['label_1261421', 'label_1496608'],\n",
       " ['label_255588', 'label_720713'],\n",
       " ['label_1517738', 'label_1412444'],\n",
       " ['label_1078540', 'label_451645'],\n",
       " ['label_1463251', 'label_1529039'],\n",
       " ['label_1287589', 'label_1519824'],\n",
       " ['label_895303', 'label_6144'],\n",
       " ['label_1340723', 'label_758911'],\n",
       " ['label_292483', 'label_928837'],\n",
       " ['label_771126', 'label_660423'],\n",
       " ['label_1029248', 'label_993563'],\n",
       " ['label_1087970', 'label_542683'],\n",
       " ['label_1438546', 'label_872722'],\n",
       " ['label_1411362', 'label_835738'],\n",
       " ['label_1248440', 'label_1482925'],\n",
       " ['label_905567', 'label_45812', 'label_1400611'],\n",
       " ['label_162461', 'label_974396'],\n",
       " ['label_366013', 'label_1533179'],\n",
       " ['label_697628', 'label_1288179', 'label_61112'],\n",
       " ['label_301071', 'label_999054'],\n",
       " ['label_103843', 'label_53435'],\n",
       " ['label_646035', 'label_1290900'],\n",
       " ['label_501107', 'label_526888'],\n",
       " ['label_1034900', 'label_930226', 'label_1503064'],\n",
       " ['label_723844', 'label_1012887'],\n",
       " ['label_177572', 'label_860682'],\n",
       " ['label_705486', 'label_608723'],\n",
       " ['label_223384', 'label_1247699'],\n",
       " ['label_1287649', 'label_992797'],\n",
       " ['label_173876', 'label_1489598'],\n",
       " ['label_369179', 'label_847679'],\n",
       " ['label_753732', 'label_405365'],\n",
       " ['label_980235', 'label_957834'],\n",
       " ['label_678051', 'label_1524938'],\n",
       " ['label_692533', 'label_920387', 'label_1263760'],\n",
       " ['label_55434', 'label_791177', 'label_1202624'],\n",
       " ['label_117242', 'label_860179', 'label_140137'],\n",
       " ['label_1459906', 'label_488068'],\n",
       " ['label_864878', 'label_1394589'],\n",
       " ['label_1457605', 'label_1319005', 'label_589311'],\n",
       " ['label_930088', 'label_419381'],\n",
       " ['label_1522279', 'label_27924'],\n",
       " ['label_682524', 'label_306821'],\n",
       " ['label_1390048', 'label_207137'],\n",
       " ['label_351023', 'label_858341'],\n",
       " ['label_1160437', 'label_469203'],\n",
       " ['label_264024', 'label_718240'],\n",
       " ['label_689011', 'label_346423'],\n",
       " ['label_1485307', 'label_569575'],\n",
       " ['label_789749', 'label_727899'],\n",
       " ['label_1479295', 'label_395257'],\n",
       " ['label_1161342', 'label_202051'],\n",
       " ['label_729441', 'label_1490161'],\n",
       " ['label_1254017', 'label_1055138'],\n",
       " ['label_911195', 'label_620373'],\n",
       " ['label_1388566', 'label_676778'],\n",
       " ['label_472312', 'label_746862'],\n",
       " ['label_572221', 'label_608960'],\n",
       " ['label_217303', 'label_1254991'],\n",
       " ['label_1299534', 'label_956688'],\n",
       " ['label_1301035', 'label_786429'],\n",
       " ['label_667135', 'label_694892'],\n",
       " ['label_1166118', 'label_1227838'],\n",
       " ['label_1313425', 'label_247451'],\n",
       " ['label_402107', 'label_654330'],\n",
       " ['label_155829', 'label_658175'],\n",
       " ['label_950164', 'label_1321282'],\n",
       " ['label_982477', 'label_451936'],\n",
       " ['label_340745', 'label_303133'],\n",
       " ['label_490994', 'label_998641', 'label_1088501'],\n",
       " ['label_1079562', 'label_1227416', 'label_1479375'],\n",
       " ['label_1141630', 'label_52534'],\n",
       " ['label_510453', 'label_400430'],\n",
       " ['label_1061781', 'label_164206', 'label_140010'],\n",
       " ['label_937112', 'label_890791'],\n",
       " ['label_472394', 'label_1515062'],\n",
       " ['label_1366755', 'label_94858'],\n",
       " ['label_50381', 'label_339312'],\n",
       " ['label_700523', 'label_432011', 'label_557134'],\n",
       " ['label_769281', 'label_1363499'],\n",
       " ['label_1334555', 'label_434436'],\n",
       " ['label_1389071', 'label_56072'],\n",
       " ['label_1244751', 'label_806573', 'label_799108'],\n",
       " ['label_184205', 'label_269515'],\n",
       " ['label_1474646', 'label_1361316'],\n",
       " ['label_1151994', 'label_208355', 'label_1467676'],\n",
       " ['label_548943', 'label_66561'],\n",
       " ['label_281787', 'label_956301'],\n",
       " ['label_60409', 'label_1456765'],\n",
       " ['label_238757', 'label_74105', 'label_1435409'],\n",
       " ['label_926690', 'label_519292', 'label_660103'],\n",
       " ['label_1012671', 'label_501664'],\n",
       " ['label_357597', 'label_160988'],\n",
       " ['label_602250', 'label_49172', 'label_1520095'],\n",
       " ['label_555475', 'label_343158'],\n",
       " ['label_119113', 'label_1253238'],\n",
       " ['label_353685', 'label_1442891', 'label_267825'],\n",
       " ['label_1153966', 'label_1249672'],\n",
       " ['label_1392017', 'label_43878'],\n",
       " ['label_278745', 'label_755953'],\n",
       " ['label_1256529', 'label_296686', 'label_293979', 'label_1193759'],\n",
       " ['label_1390449', 'label_696080'],\n",
       " ['label_292760', 'label_1166253'],\n",
       " ['label_522063', 'label_1128722'],\n",
       " ['label_1195225', 'label_139774'],\n",
       " ['label_1407054', 'label_340297', 'label_346710'],\n",
       " ['label_251107', 'label_585716'],\n",
       " ['label_1204472', 'label_668966', 'label_383363'],\n",
       " ['label_767905', 'label_1139587'],\n",
       " ['label_1113936', 'label_513188'],\n",
       " ['label_357579', 'label_377330'],\n",
       " ['label_105638', 'label_1294047'],\n",
       " ['label_1393844', 'label_1286145'],\n",
       " ['label_109968', 'label_1282143'],\n",
       " ['label_1113493', 'label_1452885'],\n",
       " ['label_1226168', 'label_304'],\n",
       " ['label_338890', 'label_1133914'],\n",
       " ['label_143057', 'label_416481'],\n",
       " ['label_1116374', 'label_907051', 'label_858659'],\n",
       " ['label_593201', 'label_1319044'],\n",
       " ['label_1120431', 'label_332243', 'label_248089'],\n",
       " ['label_1193717', 'label_1466999'],\n",
       " ['label_784889',\n",
       "  'label_681662',\n",
       "  'label_299338',\n",
       "  'label_620731',\n",
       "  'label_1443337'],\n",
       " ['label_788002',\n",
       "  'label_941336',\n",
       "  'label_382053',\n",
       "  'label_53674',\n",
       "  'label_1030758'],\n",
       " ['label_170482', 'label_157445'],\n",
       " ['label_326525', 'label_578374'],\n",
       " ['label_1377626', 'label_962865'],\n",
       " ['label_468339', 'label_150153'],\n",
       " ['label_420907', 'label_137927'],\n",
       " ['label_300718', 'label_603465', 'label_250365'],\n",
       " ['label_1046871', 'label_283546'],\n",
       " ['label_543405', 'label_1314176'],\n",
       " ['label_22555', 'label_333696'],\n",
       " ['label_1414314', 'label_846067'],\n",
       " ['label_235991', 'label_1377375'],\n",
       " ['label_1362637', 'label_241350', 'label_169081'],\n",
       " ['label_417074',\n",
       "  'label_274053',\n",
       "  'label_362896',\n",
       "  'label_1341736',\n",
       "  'label_1036622'],\n",
       " ['label_600386', 'label_901146'],\n",
       " ['label_691358', 'label_1127210'],\n",
       " ['label_987483', 'label_625200'],\n",
       " ['label_722396', 'label_1118865'],\n",
       " ['label_1156540', 'label_570967'],\n",
       " ['label_925279', 'label_829006'],\n",
       " ['label_398920', 'label_841631'],\n",
       " ['label_394591', 'label_1314060', 'label_1491308'],\n",
       " ['label_201096', 'label_1048882'],\n",
       " ['label_1531506', 'label_541866'],\n",
       " ['label_475658', 'label_557641'],\n",
       " ['label_430450', 'label_1008530'],\n",
       " ['label_802335', 'label_418721'],\n",
       " ['label_1090581', 'label_232850'],\n",
       " ['label_502265', 'label_1534013'],\n",
       " ['label_1289085', 'label_1288336', 'label_1182075'],\n",
       " ['label_1339913', 'label_951491'],\n",
       " ['label_1284199', 'label_704082'],\n",
       " ['label_49690', 'label_1239788', 'label_1145496'],\n",
       " ['label_59120', 'label_1201426'],\n",
       " ['label_103601', 'label_383090'],\n",
       " ['label_1084642', 'label_97982'],\n",
       " ['label_1483512', 'label_284504'],\n",
       " ['label_1196333', 'label_286751'],\n",
       " ['label_901920', 'label_1179639'],\n",
       " ['label_1382807', 'label_478545'],\n",
       " ['label_920737', 'label_1478153'],\n",
       " ['label_738254', 'label_718400'],\n",
       " ['label_1154417', 'label_232015'],\n",
       " ['label_635234', 'label_1279907'],\n",
       " ['label_1454727', 'label_437993'],\n",
       " ['label_848290', 'label_1445978'],\n",
       " ['label_177547', 'label_399125'],\n",
       " ['label_108678', 'label_1060171'],\n",
       " ['label_476674', 'label_400274'],\n",
       " ['label_407002', 'label_646661'],\n",
       " ['label_1253103', 'label_1314441'],\n",
       " ['label_389963', 'label_1282906'],\n",
       " ['label_904978', 'label_778308'],\n",
       " ['label_556600', 'label_486685'],\n",
       " ['label_1234880', 'label_347503'],\n",
       " ['label_889504', 'label_90283'],\n",
       " ['label_1435761', 'label_1090514'],\n",
       " ['label_784782', 'label_1282078'],\n",
       " ['label_920859', 'label_881727'],\n",
       " ['label_1040387', 'label_1100893'],\n",
       " ['label_224783', 'label_1335664'],\n",
       " ['label_755524', 'label_961936'],\n",
       " ['label_889387', 'label_20841'],\n",
       " ['label_1162296', 'label_1172019'],\n",
       " ['label_465814', 'label_295450'],\n",
       " ['label_378209', 'label_1115978'],\n",
       " ['label_992019', 'label_1526598'],\n",
       " ['label_604915', 'label_1457186'],\n",
       " ['label_829675', 'label_1164633'],\n",
       " ['label_411145', 'label_296443'],\n",
       " ['label_276236', 'label_1167120'],\n",
       " ['label_224642', 'label_263743'],\n",
       " ['label_521768', 'label_1204775'],\n",
       " ['label_40196', 'label_157583'],\n",
       " ['label_18622', 'label_185470'],\n",
       " ['label_1038174', 'label_103476'],\n",
       " ['label_912660', 'label_336257'],\n",
       " ['label_224838', 'label_186243']]"
      ]
     },
     "execution_count": 8,
     "metadata": {},
     "output_type": "execute_result"
    }
   ],
   "source": [
    "same_groups = []\n",
    "for v in fingerprint2label.values():\n",
    "    if len(v) >= 2:\n",
    "        same_groups.append(v)\n",
    "same_groups"
   ]
  },
  {
   "cell_type": "code",
   "execution_count": 9,
   "id": "aa3cd552-1f73-46d8-9011-bcf9e32251e6",
   "metadata": {},
   "outputs": [],
   "source": [
    "json.dump(same_groups, open('temp_data/equivalent_labels.json', 'w', encoding='utf-8'))"
   ]
  },
  {
   "cell_type": "code",
   "execution_count": 98,
   "id": "39f0152a-745e-49b9-805d-b87d69fb226b",
   "metadata": {},
   "outputs": [],
   "source": [
    "same_groups = json.load(open('temp_data/equivalent_labels.json', 'r', encoding='utf-8'))"
   ]
  },
  {
   "cell_type": "code",
   "execution_count": 99,
   "id": "03386d52-d35b-427a-896c-eda42439215f",
   "metadata": {},
   "outputs": [],
   "source": [
    "label2equivalent = {}\n",
    "for e in same_groups:\n",
    "    label2equivalent[e[0]] = e[1:]"
   ]
  },
  {
   "cell_type": "code",
   "execution_count": 12,
   "id": "8e0215a3-50a1-413f-b627-8067f31221ba",
   "metadata": {},
   "outputs": [],
   "source": [
    "json.dump(label2equivalent, open('temp_data/label2equivalent.json', 'w', encoding='utf-8'))"
   ]
  },
  {
   "cell_type": "markdown",
   "id": "976a3566-8275-4a50-ab03-34c02e394eac",
   "metadata": {
    "tags": []
   },
   "source": [
    "#### 删除一致标签"
   ]
  },
  {
   "cell_type": "markdown",
   "id": "69fd6ee3-4c78-4c69-99c5-fead0f6935e5",
   "metadata": {},
   "source": [
    "##### 需要删除的label\n",
    "因为共现label的出现是完全一致的，因此只需要保留一个即可"
   ]
  },
  {
   "cell_type": "code",
   "execution_count": 100,
   "id": "c8611bde-2fdd-415f-ba75-296bedb6a46d",
   "metadata": {},
   "outputs": [],
   "source": [
    "delete_set = set()\n",
    "for e in same_groups:\n",
    "    for d in e[1:]:\n",
    "        delete_set.add(d)"
   ]
  },
  {
   "cell_type": "markdown",
   "id": "fd3b49ea-e1b0-4c0c-b5c3-14454e201949",
   "metadata": {},
   "source": [
    "##### 用来删除list中共现label的函数"
   ]
  },
  {
   "cell_type": "code",
   "execution_count": 101,
   "id": "3e0bb842-839c-4b8e-8aaf-97e5490ca212",
   "metadata": {},
   "outputs": [],
   "source": [
    "def update_list(l):\n",
    "    new_list = []\n",
    "    for e in l:\n",
    "        if e not in delete_set:\n",
    "            new_list.append(e)\n",
    "    return new_list"
   ]
  },
  {
   "cell_type": "code",
   "execution_count": 102,
   "id": "dd50cb95-bac7-42f8-a771-374f4f1c6250",
   "metadata": {},
   "outputs": [],
   "source": [
    "filtered_df = df.copy()\n",
    "filtered_df['label'] = filtered_df['label'].apply(update_list)"
   ]
  },
  {
   "cell_type": "code",
   "execution_count": 103,
   "id": "b9ad8e8d-71ef-4b4f-afed-cd86f53e59d4",
   "metadata": {},
   "outputs": [
    {
     "data": {
      "text/html": [
       "<div>\n",
       "<style scoped>\n",
       "    .dataframe tbody tr th:only-of-type {\n",
       "        vertical-align: middle;\n",
       "    }\n",
       "\n",
       "    .dataframe tbody tr th {\n",
       "        vertical-align: top;\n",
       "    }\n",
       "\n",
       "    .dataframe thead th {\n",
       "        text-align: right;\n",
       "    }\n",
       "</style>\n",
       "<table border=\"1\" class=\"dataframe\">\n",
       "  <thead>\n",
       "    <tr style=\"text-align: right;\">\n",
       "      <th></th>\n",
       "      <th>id</th>\n",
       "      <th>text</th>\n",
       "      <th>label</th>\n",
       "    </tr>\n",
       "  </thead>\n",
       "  <tbody>\n",
       "    <tr>\n",
       "      <th>0</th>\n",
       "      <td>0</td>\n",
       "      <td>原来是这样啊，又是一个新的道理，简直让我长知识了，七星连珠是很难得的一种现象，这个解析也太到位了</td>\n",
       "      <td>[label_878402]</td>\n",
       "    </tr>\n",
       "    <tr>\n",
       "      <th>1</th>\n",
       "      <td>1</td>\n",
       "      <td>老师好厉害，咱就是说，老师，能不能，就是，研究一下能不能穿越🙏 代入感很强，我已经想穿越去...</td>\n",
       "      <td>[label_878402]</td>\n",
       "    </tr>\n",
       "    <tr>\n",
       "      <th>2</th>\n",
       "      <td>2</td>\n",
       "      <td>这个七星连珠的现象居然真的存在，我只在小说上面看过，太神奇了吧，至于其他的我也不太懂，科学现...</td>\n",
       "      <td>[label_878402]</td>\n",
       "    </tr>\n",
       "    <tr>\n",
       "      <th>3</th>\n",
       "      <td>3</td>\n",
       "      <td>应该听过张老师讲，这一个的人都会觉得特别的清晰吧，而且也明白七星连珠不会引发危害。 ​</td>\n",
       "      <td>[label_878402]</td>\n",
       "    </tr>\n",
       "    <tr>\n",
       "      <th>4</th>\n",
       "      <td>4</td>\n",
       "      <td>七星连珠这不是应该是天文知识吗，怎么物理也可以，学霸的世界我果然不懂啊</td>\n",
       "      <td>[label_878402]</td>\n",
       "    </tr>\n",
       "    <tr>\n",
       "      <th>...</th>\n",
       "      <td>...</td>\n",
       "      <td>...</td>\n",
       "      <td>...</td>\n",
       "    </tr>\n",
       "    <tr>\n",
       "      <th>77309</th>\n",
       "      <td>77309</td>\n",
       "      <td>甘肃兰州2022年文化和自然遗产日主场城市活动亮点抢先看甘肃兰州2022年文化和自然遗产日主...</td>\n",
       "      <td>[label_82331]</td>\n",
       "    </tr>\n",
       "    <tr>\n",
       "      <th>77310</th>\n",
       "      <td>77310</td>\n",
       "      <td>《焦点访谈》 20220611 让文物活起来 国宝自己会“说话” 《焦点访谈》 202206...</td>\n",
       "      <td>[label_82331]</td>\n",
       "    </tr>\n",
       "    <tr>\n",
       "      <th>77311</th>\n",
       "      <td>77311</td>\n",
       "      <td>甘肃加大农机装备力量投入“三夏”生产网页链接</td>\n",
       "      <td>[label_82331]</td>\n",
       "    </tr>\n",
       "    <tr>\n",
       "      <th>77312</th>\n",
       "      <td>77312</td>\n",
       "      <td>小范书记们，村民都在等荐书 网页链接 ​​​</td>\n",
       "      <td>[label_82331]</td>\n",
       "    </tr>\n",
       "    <tr>\n",
       "      <th>77313</th>\n",
       "      <td>77313</td>\n",
       "      <td>主汛期洪涝、干旱风险高 甘肃坚持“宁可防空，不可空防” ​</td>\n",
       "      <td>[label_82331]</td>\n",
       "    </tr>\n",
       "  </tbody>\n",
       "</table>\n",
       "<p>77314 rows × 3 columns</p>\n",
       "</div>"
      ],
      "text/plain": [
       "          id                                               text  \\\n",
       "0          0   原来是这样啊，又是一个新的道理，简直让我长知识了，七星连珠是很难得的一种现象，这个解析也太到位了   \n",
       "1          1   老师好厉害，咱就是说，老师，能不能，就是，研究一下能不能穿越🙏 代入感很强，我已经想穿越去...   \n",
       "2          2  这个七星连珠的现象居然真的存在，我只在小说上面看过，太神奇了吧，至于其他的我也不太懂，科学现...   \n",
       "3          3        应该听过张老师讲，这一个的人都会觉得特别的清晰吧，而且也明白七星连珠不会引发危害。 ​   \n",
       "4          4                七星连珠这不是应该是天文知识吗，怎么物理也可以，学霸的世界我果然不懂啊   \n",
       "...      ...                                                ...   \n",
       "77309  77309  甘肃兰州2022年文化和自然遗产日主场城市活动亮点抢先看甘肃兰州2022年文化和自然遗产日主...   \n",
       "77310  77310  《焦点访谈》 20220611 让文物活起来 国宝自己会“说话” 《焦点访谈》 202206...   \n",
       "77311  77311                             甘肃加大农机装备力量投入“三夏”生产网页链接   \n",
       "77312  77312                             小范书记们，村民都在等荐书 网页链接 ​​​   \n",
       "77313  77313                      主汛期洪涝、干旱风险高 甘肃坚持“宁可防空，不可空防” ​   \n",
       "\n",
       "                label  \n",
       "0      [label_878402]  \n",
       "1      [label_878402]  \n",
       "2      [label_878402]  \n",
       "3      [label_878402]  \n",
       "4      [label_878402]  \n",
       "...               ...  \n",
       "77309   [label_82331]  \n",
       "77310   [label_82331]  \n",
       "77311   [label_82331]  \n",
       "77312   [label_82331]  \n",
       "77313   [label_82331]  \n",
       "\n",
       "[77314 rows x 3 columns]"
      ]
     },
     "execution_count": 103,
     "metadata": {},
     "output_type": "execute_result"
    }
   ],
   "source": [
    "filtered_df"
   ]
  },
  {
   "cell_type": "markdown",
   "id": "4efa3811-725e-4e12-aba1-dbb5bda5a6de",
   "metadata": {
    "jp-MarkdownHeadingCollapsed": true,
    "tags": []
   },
   "source": [
    "# 数据分析"
   ]
  },
  {
   "cell_type": "code",
   "execution_count": 3,
   "id": "74070e00-40c1-4687-ba2a-5fe617b1027f",
   "metadata": {},
   "outputs": [
    {
     "data": {
      "text/html": [
       "<div>\n",
       "<style scoped>\n",
       "    .dataframe tbody tr th:only-of-type {\n",
       "        vertical-align: middle;\n",
       "    }\n",
       "\n",
       "    .dataframe tbody tr th {\n",
       "        vertical-align: top;\n",
       "    }\n",
       "\n",
       "    .dataframe thead th {\n",
       "        text-align: right;\n",
       "    }\n",
       "</style>\n",
       "<table border=\"1\" class=\"dataframe\">\n",
       "  <thead>\n",
       "    <tr style=\"text-align: right;\">\n",
       "      <th></th>\n",
       "      <th>id</th>\n",
       "      <th>text</th>\n",
       "      <th>label</th>\n",
       "    </tr>\n",
       "  </thead>\n",
       "  <tbody>\n",
       "    <tr>\n",
       "      <th>0</th>\n",
       "      <td>0</td>\n",
       "      <td>原来是这样啊，又是一个新的道理，简直让我长知识了，七星连珠是很难得的一种现象，这个解析也太到位了</td>\n",
       "      <td>[label_878402]</td>\n",
       "    </tr>\n",
       "    <tr>\n",
       "      <th>1</th>\n",
       "      <td>1</td>\n",
       "      <td>老师好厉害，咱就是说，老师，能不能，就是，研究一下能不能穿越🙏 代入感很强，我已经想穿越去...</td>\n",
       "      <td>[label_878402]</td>\n",
       "    </tr>\n",
       "    <tr>\n",
       "      <th>2</th>\n",
       "      <td>2</td>\n",
       "      <td>这个七星连珠的现象居然真的存在，我只在小说上面看过，太神奇了吧，至于其他的我也不太懂，科学现...</td>\n",
       "      <td>[label_878402]</td>\n",
       "    </tr>\n",
       "    <tr>\n",
       "      <th>3</th>\n",
       "      <td>3</td>\n",
       "      <td>应该听过张老师讲，这一个的人都会觉得特别的清晰吧，而且也明白七星连珠不会引发危害。 ​</td>\n",
       "      <td>[label_878402]</td>\n",
       "    </tr>\n",
       "    <tr>\n",
       "      <th>4</th>\n",
       "      <td>4</td>\n",
       "      <td>七星连珠这不是应该是天文知识吗，怎么物理也可以，学霸的世界我果然不懂啊</td>\n",
       "      <td>[label_878402]</td>\n",
       "    </tr>\n",
       "    <tr>\n",
       "      <th>...</th>\n",
       "      <td>...</td>\n",
       "      <td>...</td>\n",
       "      <td>...</td>\n",
       "    </tr>\n",
       "    <tr>\n",
       "      <th>77309</th>\n",
       "      <td>77309</td>\n",
       "      <td>甘肃兰州2022年文化和自然遗产日主场城市活动亮点抢先看甘肃兰州2022年文化和自然遗产日主...</td>\n",
       "      <td>[label_82331]</td>\n",
       "    </tr>\n",
       "    <tr>\n",
       "      <th>77310</th>\n",
       "      <td>77310</td>\n",
       "      <td>《焦点访谈》 20220611 让文物活起来 国宝自己会“说话” 《焦点访谈》 202206...</td>\n",
       "      <td>[label_82331]</td>\n",
       "    </tr>\n",
       "    <tr>\n",
       "      <th>77311</th>\n",
       "      <td>77311</td>\n",
       "      <td>甘肃加大农机装备力量投入“三夏”生产网页链接</td>\n",
       "      <td>[label_82331]</td>\n",
       "    </tr>\n",
       "    <tr>\n",
       "      <th>77312</th>\n",
       "      <td>77312</td>\n",
       "      <td>小范书记们，村民都在等荐书 网页链接 ​​​</td>\n",
       "      <td>[label_82331]</td>\n",
       "    </tr>\n",
       "    <tr>\n",
       "      <th>77313</th>\n",
       "      <td>77313</td>\n",
       "      <td>主汛期洪涝、干旱风险高 甘肃坚持“宁可防空，不可空防” ​</td>\n",
       "      <td>[label_82331]</td>\n",
       "    </tr>\n",
       "  </tbody>\n",
       "</table>\n",
       "<p>77314 rows × 3 columns</p>\n",
       "</div>"
      ],
      "text/plain": [
       "          id                                               text  \\\n",
       "0          0   原来是这样啊，又是一个新的道理，简直让我长知识了，七星连珠是很难得的一种现象，这个解析也太到位了   \n",
       "1          1   老师好厉害，咱就是说，老师，能不能，就是，研究一下能不能穿越🙏 代入感很强，我已经想穿越去...   \n",
       "2          2  这个七星连珠的现象居然真的存在，我只在小说上面看过，太神奇了吧，至于其他的我也不太懂，科学现...   \n",
       "3          3        应该听过张老师讲，这一个的人都会觉得特别的清晰吧，而且也明白七星连珠不会引发危害。 ​   \n",
       "4          4                七星连珠这不是应该是天文知识吗，怎么物理也可以，学霸的世界我果然不懂啊   \n",
       "...      ...                                                ...   \n",
       "77309  77309  甘肃兰州2022年文化和自然遗产日主场城市活动亮点抢先看甘肃兰州2022年文化和自然遗产日主...   \n",
       "77310  77310  《焦点访谈》 20220611 让文物活起来 国宝自己会“说话” 《焦点访谈》 202206...   \n",
       "77311  77311                             甘肃加大农机装备力量投入“三夏”生产网页链接   \n",
       "77312  77312                             小范书记们，村民都在等荐书 网页链接 ​​​   \n",
       "77313  77313                      主汛期洪涝、干旱风险高 甘肃坚持“宁可防空，不可空防” ​   \n",
       "\n",
       "                label  \n",
       "0      [label_878402]  \n",
       "1      [label_878402]  \n",
       "2      [label_878402]  \n",
       "3      [label_878402]  \n",
       "4      [label_878402]  \n",
       "...               ...  \n",
       "77309   [label_82331]  \n",
       "77310   [label_82331]  \n",
       "77311   [label_82331]  \n",
       "77312   [label_82331]  \n",
       "77313   [label_82331]  \n",
       "\n",
       "[77314 rows x 3 columns]"
      ]
     },
     "execution_count": 3,
     "metadata": {},
     "output_type": "execute_result"
    }
   ],
   "source": [
    "d = list(json.loads(x) for x in open(fname, 'r', encoding='utf-8').read().strip().split('\\n'))\n",
    "odf = pd.DataFrame(d)\n",
    "odf"
   ]
  },
  {
   "cell_type": "markdown",
   "id": "757c0c8d-1bd2-48c1-b035-a55c2d36989c",
   "metadata": {
    "jp-MarkdownHeadingCollapsed": true,
    "tags": []
   },
   "source": [
    "### 按标签explode后，对标签进行分析"
   ]
  },
  {
   "cell_type": "code",
   "execution_count": 150,
   "id": "84a2fe74-619b-4d1d-86f1-53f9f98fe9af",
   "metadata": {},
   "outputs": [
    {
     "data": {
      "text/html": [
       "<div>\n",
       "<style scoped>\n",
       "    .dataframe tbody tr th:only-of-type {\n",
       "        vertical-align: middle;\n",
       "    }\n",
       "\n",
       "    .dataframe tbody tr th {\n",
       "        vertical-align: top;\n",
       "    }\n",
       "\n",
       "    .dataframe thead th {\n",
       "        text-align: right;\n",
       "    }\n",
       "</style>\n",
       "<table border=\"1\" class=\"dataframe\">\n",
       "  <thead>\n",
       "    <tr style=\"text-align: right;\">\n",
       "      <th></th>\n",
       "      <th>id</th>\n",
       "      <th>text</th>\n",
       "      <th>label</th>\n",
       "      <th>cnt</th>\n",
       "    </tr>\n",
       "  </thead>\n",
       "  <tbody>\n",
       "    <tr>\n",
       "      <th>0</th>\n",
       "      <td>0</td>\n",
       "      <td>原来是这样啊，又是一个新的道理，简直让我长知识了，七星连珠是很难得的一种现象，这个解析也太到位了</td>\n",
       "      <td>label_878402</td>\n",
       "      <td>1</td>\n",
       "    </tr>\n",
       "    <tr>\n",
       "      <th>1</th>\n",
       "      <td>1</td>\n",
       "      <td>老师好厉害，咱就是说，老师，能不能，就是，研究一下能不能穿越🙏 代入感很强，我已经想穿越去玩了[航母]</td>\n",
       "      <td>label_878402</td>\n",
       "      <td>1</td>\n",
       "    </tr>\n",
       "    <tr>\n",
       "      <th>2</th>\n",
       "      <td>2</td>\n",
       "      <td>这个七星连珠的现象居然真的存在，我只在小说上面看过，太神奇了吧，至于其他的我也不太懂，科学现象还是需要很多依据证明的</td>\n",
       "      <td>label_878402</td>\n",
       "      <td>1</td>\n",
       "    </tr>\n",
       "    <tr>\n",
       "      <th>3</th>\n",
       "      <td>3</td>\n",
       "      <td>应该听过张老师讲，这一个的人都会觉得特别的清晰吧，而且也明白七星连珠不会引发危害。 ​</td>\n",
       "      <td>label_878402</td>\n",
       "      <td>1</td>\n",
       "    </tr>\n",
       "    <tr>\n",
       "      <th>4</th>\n",
       "      <td>4</td>\n",
       "      <td>七星连珠这不是应该是天文知识吗，怎么物理也可以，学霸的世界我果然不懂啊</td>\n",
       "      <td>label_878402</td>\n",
       "      <td>1</td>\n",
       "    </tr>\n",
       "    <tr>\n",
       "      <th>...</th>\n",
       "      <td>...</td>\n",
       "      <td>...</td>\n",
       "      <td>...</td>\n",
       "      <td>...</td>\n",
       "    </tr>\n",
       "    <tr>\n",
       "      <th>77309</th>\n",
       "      <td>77309</td>\n",
       "      <td>甘肃兰州2022年文化和自然遗产日主场城市活动亮点抢先看甘肃兰州2022年文化和自然遗产日主场城市活动亮点抢先看！ ​​​</td>\n",
       "      <td>label_82331</td>\n",
       "      <td>1</td>\n",
       "    </tr>\n",
       "    <tr>\n",
       "      <th>77310</th>\n",
       "      <td>77310</td>\n",
       "      <td>《焦点访谈》 20220611 让文物活起来 国宝自己会“说话” 《焦点访谈》 20220611 让文物活起来 国宝自己会“说话” ​​​</td>\n",
       "      <td>label_82331</td>\n",
       "      <td>1</td>\n",
       "    </tr>\n",
       "    <tr>\n",
       "      <th>77311</th>\n",
       "      <td>77311</td>\n",
       "      <td>甘肃加大农机装备力量投入“三夏”生产网页链接</td>\n",
       "      <td>label_82331</td>\n",
       "      <td>1</td>\n",
       "    </tr>\n",
       "    <tr>\n",
       "      <th>77312</th>\n",
       "      <td>77312</td>\n",
       "      <td>小范书记们，村民都在等荐书 网页链接 ​​​</td>\n",
       "      <td>label_82331</td>\n",
       "      <td>1</td>\n",
       "    </tr>\n",
       "    <tr>\n",
       "      <th>77313</th>\n",
       "      <td>77313</td>\n",
       "      <td>主汛期洪涝、干旱风险高 甘肃坚持“宁可防空，不可空防” ​</td>\n",
       "      <td>label_82331</td>\n",
       "      <td>1</td>\n",
       "    </tr>\n",
       "  </tbody>\n",
       "</table>\n",
       "<p>98433 rows × 4 columns</p>\n",
       "</div>"
      ],
      "text/plain": [
       "          id  \\\n",
       "0          0   \n",
       "1          1   \n",
       "2          2   \n",
       "3          3   \n",
       "4          4   \n",
       "...      ...   \n",
       "77309  77309   \n",
       "77310  77310   \n",
       "77311  77311   \n",
       "77312  77312   \n",
       "77313  77313   \n",
       "\n",
       "                                                                        text  \\\n",
       "0                           原来是这样啊，又是一个新的道理，简直让我长知识了，七星连珠是很难得的一种现象，这个解析也太到位了   \n",
       "1                        老师好厉害，咱就是说，老师，能不能，就是，研究一下能不能穿越🙏 代入感很强，我已经想穿越去玩了[航母]   \n",
       "2                 这个七星连珠的现象居然真的存在，我只在小说上面看过，太神奇了吧，至于其他的我也不太懂，科学现象还是需要很多依据证明的   \n",
       "3                                应该听过张老师讲，这一个的人都会觉得特别的清晰吧，而且也明白七星连珠不会引发危害。 ​   \n",
       "4                                        七星连珠这不是应该是天文知识吗，怎么物理也可以，学霸的世界我果然不懂啊   \n",
       "...                                                                      ...   \n",
       "77309          甘肃兰州2022年文化和自然遗产日主场城市活动亮点抢先看甘肃兰州2022年文化和自然遗产日主场城市活动亮点抢先看！ ​​​   \n",
       "77310  《焦点访谈》 20220611 让文物活起来 国宝自己会“说话” 《焦点访谈》 20220611 让文物活起来 国宝自己会“说话” ​​​   \n",
       "77311                                                 甘肃加大农机装备力量投入“三夏”生产网页链接   \n",
       "77312                                                 小范书记们，村民都在等荐书 网页链接 ​​​   \n",
       "77313                                          主汛期洪涝、干旱风险高 甘肃坚持“宁可防空，不可空防” ​   \n",
       "\n",
       "              label  cnt  \n",
       "0      label_878402    1  \n",
       "1      label_878402    1  \n",
       "2      label_878402    1  \n",
       "3      label_878402    1  \n",
       "4      label_878402    1  \n",
       "...             ...  ...  \n",
       "77309   label_82331    1  \n",
       "77310   label_82331    1  \n",
       "77311   label_82331    1  \n",
       "77312   label_82331    1  \n",
       "77313   label_82331    1  \n",
       "\n",
       "[98433 rows x 4 columns]"
      ]
     },
     "execution_count": 150,
     "metadata": {},
     "output_type": "execute_result"
    }
   ],
   "source": [
    "df = df.explode('label')\n",
    "df"
   ]
  },
  {
   "cell_type": "code",
   "execution_count": 151,
   "id": "2d6997c4-19b6-449f-a805-bcf636083cd9",
   "metadata": {},
   "outputs": [
    {
     "data": {
      "text/plain": [
       "count     1023.000000\n",
       "mean        96.219941\n",
       "std        523.856148\n",
       "min          1.000000\n",
       "25%         11.000000\n",
       "50%         19.000000\n",
       "75%         44.500000\n",
       "max      10235.000000\n",
       "Name: label, dtype: float64"
      ]
     },
     "execution_count": 151,
     "metadata": {},
     "output_type": "execute_result"
    }
   ],
   "source": [
    "df['label'].value_counts().describe()"
   ]
  },
  {
   "cell_type": "code",
   "execution_count": 152,
   "id": "1a9a744d-2cd5-463a-8465-2323c7272be8",
   "metadata": {},
   "outputs": [
    {
     "data": {
      "image/png": "[encoded data removed]",
      "text/plain": [
       "<Figure size 640x480 with 1 Axes>"
      ]
     },
     "metadata": {},
     "output_type": "display_data"
    }
   ],
   "source": [
    "df['label'].value_counts().plot()\n",
    "plt.show()"
   ]
  },
  {
   "cell_type": "code",
   "execution_count": 65,
   "id": "85340b0c-d5a8-4df2-8c71-da1dfe9e6173",
   "metadata": {},
   "outputs": [
    {
     "data": {
      "text/plain": [
       "101"
      ]
     },
     "execution_count": 65,
     "metadata": {},
     "output_type": "execute_result"
    }
   ],
   "source": [
    "((df['label'].value_counts() <5) * df['label'].value_counts()).sum()"
   ]
  },
  {
   "cell_type": "code",
   "execution_count": 77,
   "id": "2e4a9db1-99e0-4f20-b4ba-c8814aa7d519",
   "metadata": {},
   "outputs": [
    {
     "data": {
      "text/plain": [
       "67"
      ]
     },
     "execution_count": 77,
     "metadata": {},
     "output_type": "execute_result"
    }
   ],
   "source": [
    "(df['label'].value_counts() == 18).sum()"
   ]
  },
  {
   "cell_type": "code",
   "execution_count": 153,
   "id": "82857bf7-b6a9-4608-b9ce-d54938e1fba2",
   "metadata": {},
   "outputs": [
    {
     "data": {
      "text/plain": [
       "label_1191241    10235\n",
       "label_1008181    10023\n",
       "label_1281707     4680\n",
       "label_472394      4671\n",
       "label_742793      2783\n",
       "label_1411524     1906\n",
       "label_1265038     1881\n",
       "label_896157      1730\n",
       "label_1064693     1719\n",
       "label_467023      1641\n",
       "label_1474127     1421\n",
       "label_1227838     1066\n",
       "label_19479       1060\n",
       "label_287908       828\n",
       "label_753343       719\n",
       "label_1056127      716\n",
       "label_529001       711\n",
       "label_512340       704\n",
       "label_1438711      695\n",
       "label_313744       675\n",
       "Name: label, dtype: int64"
      ]
     },
     "execution_count": 153,
     "metadata": {},
     "output_type": "execute_result"
    }
   ],
   "source": [
    "df_label_counts = df['label'].value_counts()\n",
    "df_label_counts[:20]"
   ]
  },
  {
   "cell_type": "code",
   "execution_count": 122,
   "id": "846f4f3d-23ed-43c7-8e70-395f14d6dae4",
   "metadata": {},
   "outputs": [
    {
     "data": {
      "text/plain": [
       "4671"
      ]
     },
     "execution_count": 122,
     "metadata": {},
     "output_type": "execute_result"
    }
   ],
   "source": [
    "id_label1 = df[df['label'] == 'label_1515062']['id']\n",
    "id_label2 = df[df['label'] == 'label_472394']['id']\n",
    "len(set(id_label1).intersection(set(id_label2)))"
   ]
  },
  {
   "cell_type": "markdown",
   "id": "63692629-3782-421d-ae0c-b5b31abfcce7",
   "metadata": {
    "jp-MarkdownHeadingCollapsed": true,
    "tags": []
   },
   "source": [
    "### 对标签的相互关系进行分析"
   ]
  },
  {
   "cell_type": "code",
   "execution_count": 4,
   "id": "6a9a267b-afa4-47da-b6d6-f2fcbf353896",
   "metadata": {},
   "outputs": [
    {
     "data": {
      "text/html": [
       "<div>\n",
       "<style scoped>\n",
       "    .dataframe tbody tr th:only-of-type {\n",
       "        vertical-align: middle;\n",
       "    }\n",
       "\n",
       "    .dataframe tbody tr th {\n",
       "        vertical-align: top;\n",
       "    }\n",
       "\n",
       "    .dataframe thead th {\n",
       "        text-align: right;\n",
       "    }\n",
       "</style>\n",
       "<table border=\"1\" class=\"dataframe\">\n",
       "  <thead>\n",
       "    <tr style=\"text-align: right;\">\n",
       "      <th></th>\n",
       "      <th>id</th>\n",
       "      <th>text</th>\n",
       "      <th>label</th>\n",
       "      <th>cnt</th>\n",
       "    </tr>\n",
       "  </thead>\n",
       "  <tbody>\n",
       "    <tr>\n",
       "      <th>0</th>\n",
       "      <td>0</td>\n",
       "      <td>原来是这样啊，又是一个新的道理，简直让我长知识了，七星连珠是很难得的一种现象，这个解析也太到位了</td>\n",
       "      <td>[label_878402]</td>\n",
       "      <td>1</td>\n",
       "    </tr>\n",
       "    <tr>\n",
       "      <th>1</th>\n",
       "      <td>1</td>\n",
       "      <td>老师好厉害，咱就是说，老师，能不能，就是，研究一下能不能穿越🙏 代入感很强，我已经想穿越去...</td>\n",
       "      <td>[label_878402]</td>\n",
       "      <td>1</td>\n",
       "    </tr>\n",
       "    <tr>\n",
       "      <th>2</th>\n",
       "      <td>2</td>\n",
       "      <td>这个七星连珠的现象居然真的存在，我只在小说上面看过，太神奇了吧，至于其他的我也不太懂，科学现...</td>\n",
       "      <td>[label_878402]</td>\n",
       "      <td>1</td>\n",
       "    </tr>\n",
       "    <tr>\n",
       "      <th>3</th>\n",
       "      <td>3</td>\n",
       "      <td>应该听过张老师讲，这一个的人都会觉得特别的清晰吧，而且也明白七星连珠不会引发危害。 ​</td>\n",
       "      <td>[label_878402]</td>\n",
       "      <td>1</td>\n",
       "    </tr>\n",
       "    <tr>\n",
       "      <th>4</th>\n",
       "      <td>4</td>\n",
       "      <td>七星连珠这不是应该是天文知识吗，怎么物理也可以，学霸的世界我果然不懂啊</td>\n",
       "      <td>[label_878402]</td>\n",
       "      <td>1</td>\n",
       "    </tr>\n",
       "    <tr>\n",
       "      <th>...</th>\n",
       "      <td>...</td>\n",
       "      <td>...</td>\n",
       "      <td>...</td>\n",
       "      <td>...</td>\n",
       "    </tr>\n",
       "    <tr>\n",
       "      <th>77309</th>\n",
       "      <td>77309</td>\n",
       "      <td>甘肃兰州2022年文化和自然遗产日主场城市活动亮点抢先看甘肃兰州2022年文化和自然遗产日主...</td>\n",
       "      <td>[label_82331]</td>\n",
       "      <td>1</td>\n",
       "    </tr>\n",
       "    <tr>\n",
       "      <th>77310</th>\n",
       "      <td>77310</td>\n",
       "      <td>《焦点访谈》 20220611 让文物活起来 国宝自己会“说话” 《焦点访谈》 202206...</td>\n",
       "      <td>[label_82331]</td>\n",
       "      <td>1</td>\n",
       "    </tr>\n",
       "    <tr>\n",
       "      <th>77311</th>\n",
       "      <td>77311</td>\n",
       "      <td>甘肃加大农机装备力量投入“三夏”生产网页链接</td>\n",
       "      <td>[label_82331]</td>\n",
       "      <td>1</td>\n",
       "    </tr>\n",
       "    <tr>\n",
       "      <th>77312</th>\n",
       "      <td>77312</td>\n",
       "      <td>小范书记们，村民都在等荐书 网页链接 ​​​</td>\n",
       "      <td>[label_82331]</td>\n",
       "      <td>1</td>\n",
       "    </tr>\n",
       "    <tr>\n",
       "      <th>77313</th>\n",
       "      <td>77313</td>\n",
       "      <td>主汛期洪涝、干旱风险高 甘肃坚持“宁可防空，不可空防” ​</td>\n",
       "      <td>[label_82331]</td>\n",
       "      <td>1</td>\n",
       "    </tr>\n",
       "  </tbody>\n",
       "</table>\n",
       "<p>77314 rows × 4 columns</p>\n",
       "</div>"
      ],
      "text/plain": [
       "          id                                               text  \\\n",
       "0          0   原来是这样啊，又是一个新的道理，简直让我长知识了，七星连珠是很难得的一种现象，这个解析也太到位了   \n",
       "1          1   老师好厉害，咱就是说，老师，能不能，就是，研究一下能不能穿越🙏 代入感很强，我已经想穿越去...   \n",
       "2          2  这个七星连珠的现象居然真的存在，我只在小说上面看过，太神奇了吧，至于其他的我也不太懂，科学现...   \n",
       "3          3        应该听过张老师讲，这一个的人都会觉得特别的清晰吧，而且也明白七星连珠不会引发危害。 ​   \n",
       "4          4                七星连珠这不是应该是天文知识吗，怎么物理也可以，学霸的世界我果然不懂啊   \n",
       "...      ...                                                ...   \n",
       "77309  77309  甘肃兰州2022年文化和自然遗产日主场城市活动亮点抢先看甘肃兰州2022年文化和自然遗产日主...   \n",
       "77310  77310  《焦点访谈》 20220611 让文物活起来 国宝自己会“说话” 《焦点访谈》 202206...   \n",
       "77311  77311                             甘肃加大农机装备力量投入“三夏”生产网页链接   \n",
       "77312  77312                             小范书记们，村民都在等荐书 网页链接 ​​​   \n",
       "77313  77313                      主汛期洪涝、干旱风险高 甘肃坚持“宁可防空，不可空防” ​   \n",
       "\n",
       "                label  cnt  \n",
       "0      [label_878402]    1  \n",
       "1      [label_878402]    1  \n",
       "2      [label_878402]    1  \n",
       "3      [label_878402]    1  \n",
       "4      [label_878402]    1  \n",
       "...               ...  ...  \n",
       "77309   [label_82331]    1  \n",
       "77310   [label_82331]    1  \n",
       "77311   [label_82331]    1  \n",
       "77312   [label_82331]    1  \n",
       "77313   [label_82331]    1  \n",
       "\n",
       "[77314 rows x 4 columns]"
      ]
     },
     "execution_count": 4,
     "metadata": {},
     "output_type": "execute_result"
    }
   ],
   "source": [
    "odf['cnt'] = odf.apply(lambda x: len(x['label']), axis=1)\n",
    "odf"
   ]
  },
  {
   "cell_type": "markdown",
   "id": "f1ed749b-52de-4bce-b860-1c588c9ebf64",
   "metadata": {
    "tags": []
   },
   "source": [
    "#### 获取基础统计信息"
   ]
  },
  {
   "cell_type": "code",
   "execution_count": 126,
   "id": "a25ab0eb-fb8e-4afd-8d53-30b036dcd381",
   "metadata": {},
   "outputs": [
    {
     "data": {
      "text/plain": [
       "count    77314.000000\n",
       "mean         1.517513\n",
       "std          0.716919\n",
       "min          1.000000\n",
       "25%          1.000000\n",
       "50%          1.000000\n",
       "75%          2.000000\n",
       "max          8.000000\n",
       "Name: cnt, dtype: float64"
      ]
     },
     "execution_count": 126,
     "metadata": {},
     "output_type": "execute_result"
    }
   ],
   "source": [
    "odf['cnt'].describe()"
   ]
  },
  {
   "cell_type": "code",
   "execution_count": 99,
   "id": "dc80a18f-2d05-47bb-b5e0-aaf72268204c",
   "metadata": {},
   "outputs": [
    {
     "data": {
      "text/plain": [
       "1    45329\n",
       "2    24989\n",
       "3     6525\n",
       "4      247\n",
       "8       83\n",
       "5       72\n",
       "6       52\n",
       "7       17\n",
       "Name: cnt, dtype: int64"
      ]
     },
     "execution_count": 99,
     "metadata": {},
     "output_type": "execute_result"
    }
   ],
   "source": [
    "odf['cnt'].value_counts()"
   ]
  },
  {
   "cell_type": "code",
   "execution_count": 106,
   "id": "f30b79a1-590c-410f-bb8c-a1bab1e537c5",
   "metadata": {},
   "outputs": [
    {
     "ename": "KeyError",
     "evalue": "False",
     "output_type": "error",
     "traceback": [
      "\u001b[0;31m---------------------------------------------------------------------------\u001b[0m",
      "\u001b[0;31mKeyError\u001b[0m                                  Traceback (most recent call last)",
      "File \u001b[0;32m/opt/anaconda3/envs/pytorch/lib/python3.8/site-packages/pandas/core/indexes/base.py:3621\u001b[0m, in \u001b[0;36mIndex.get_loc\u001b[0;34m(self, key, method, tolerance)\u001b[0m\n\u001b[1;32m   3620\u001b[0m \u001b[38;5;28;01mtry\u001b[39;00m:\n\u001b[0;32m-> 3621\u001b[0m     \u001b[38;5;28;01mreturn\u001b[39;00m \u001b[38;5;28;43mself\u001b[39;49m\u001b[38;5;241;43m.\u001b[39;49m\u001b[43m_engine\u001b[49m\u001b[38;5;241;43m.\u001b[39;49m\u001b[43mget_loc\u001b[49m\u001b[43m(\u001b[49m\u001b[43mcasted_key\u001b[49m\u001b[43m)\u001b[49m\n\u001b[1;32m   3622\u001b[0m \u001b[38;5;28;01mexcept\u001b[39;00m \u001b[38;5;167;01mKeyError\u001b[39;00m \u001b[38;5;28;01mas\u001b[39;00m err:\n",
      "File \u001b[0;32mpandas/_libs/index.pyx:136\u001b[0m, in \u001b[0;36mpandas._libs.index.IndexEngine.get_loc\u001b[0;34m()\u001b[0m\n",
      "File \u001b[0;32mpandas/_libs/index.pyx:163\u001b[0m, in \u001b[0;36mpandas._libs.index.IndexEngine.get_loc\u001b[0;34m()\u001b[0m\n",
      "File \u001b[0;32mpandas/_libs/hashtable_class_helper.pxi:5198\u001b[0m, in \u001b[0;36mpandas._libs.hashtable.PyObjectHashTable.get_item\u001b[0;34m()\u001b[0m\n",
      "File \u001b[0;32mpandas/_libs/hashtable_class_helper.pxi:5206\u001b[0m, in \u001b[0;36mpandas._libs.hashtable.PyObjectHashTable.get_item\u001b[0;34m()\u001b[0m\n",
      "\u001b[0;31mKeyError\u001b[0m: False",
      "\nThe above exception was the direct cause of the following exception:\n",
      "\u001b[0;31mKeyError\u001b[0m                                  Traceback (most recent call last)",
      "Input \u001b[0;32mIn [106]\u001b[0m, in \u001b[0;36m<cell line: 1>\u001b[0;34m()\u001b[0m\n\u001b[0;32m----> 1\u001b[0m \u001b[43modf\u001b[49m\u001b[43m[\u001b[49m\u001b[38;5;124;43m'\u001b[39;49m\u001b[38;5;124;43mlabel_1191241\u001b[39;49m\u001b[38;5;124;43m'\u001b[39;49m\u001b[43m \u001b[49m\u001b[38;5;129;43;01min\u001b[39;49;00m\u001b[43m \u001b[49m\u001b[43modf\u001b[49m\u001b[43m[\u001b[49m\u001b[38;5;124;43m'\u001b[39;49m\u001b[38;5;124;43mlabel\u001b[39;49m\u001b[38;5;124;43m'\u001b[39;49m\u001b[43m]\u001b[49m\u001b[43m]\u001b[49m\n",
      "File \u001b[0;32m/opt/anaconda3/envs/pytorch/lib/python3.8/site-packages/pandas/core/frame.py:3505\u001b[0m, in \u001b[0;36mDataFrame.__getitem__\u001b[0;34m(self, key)\u001b[0m\n\u001b[1;32m   3503\u001b[0m \u001b[38;5;28;01mif\u001b[39;00m \u001b[38;5;28mself\u001b[39m\u001b[38;5;241m.\u001b[39mcolumns\u001b[38;5;241m.\u001b[39mnlevels \u001b[38;5;241m>\u001b[39m \u001b[38;5;241m1\u001b[39m:\n\u001b[1;32m   3504\u001b[0m     \u001b[38;5;28;01mreturn\u001b[39;00m \u001b[38;5;28mself\u001b[39m\u001b[38;5;241m.\u001b[39m_getitem_multilevel(key)\n\u001b[0;32m-> 3505\u001b[0m indexer \u001b[38;5;241m=\u001b[39m \u001b[38;5;28;43mself\u001b[39;49m\u001b[38;5;241;43m.\u001b[39;49m\u001b[43mcolumns\u001b[49m\u001b[38;5;241;43m.\u001b[39;49m\u001b[43mget_loc\u001b[49m\u001b[43m(\u001b[49m\u001b[43mkey\u001b[49m\u001b[43m)\u001b[49m\n\u001b[1;32m   3506\u001b[0m \u001b[38;5;28;01mif\u001b[39;00m is_integer(indexer):\n\u001b[1;32m   3507\u001b[0m     indexer \u001b[38;5;241m=\u001b[39m [indexer]\n",
      "File \u001b[0;32m/opt/anaconda3/envs/pytorch/lib/python3.8/site-packages/pandas/core/indexes/base.py:3623\u001b[0m, in \u001b[0;36mIndex.get_loc\u001b[0;34m(self, key, method, tolerance)\u001b[0m\n\u001b[1;32m   3621\u001b[0m     \u001b[38;5;28;01mreturn\u001b[39;00m \u001b[38;5;28mself\u001b[39m\u001b[38;5;241m.\u001b[39m_engine\u001b[38;5;241m.\u001b[39mget_loc(casted_key)\n\u001b[1;32m   3622\u001b[0m \u001b[38;5;28;01mexcept\u001b[39;00m \u001b[38;5;167;01mKeyError\u001b[39;00m \u001b[38;5;28;01mas\u001b[39;00m err:\n\u001b[0;32m-> 3623\u001b[0m     \u001b[38;5;28;01mraise\u001b[39;00m \u001b[38;5;167;01mKeyError\u001b[39;00m(key) \u001b[38;5;28;01mfrom\u001b[39;00m \u001b[38;5;21;01merr\u001b[39;00m\n\u001b[1;32m   3624\u001b[0m \u001b[38;5;28;01mexcept\u001b[39;00m \u001b[38;5;167;01mTypeError\u001b[39;00m:\n\u001b[1;32m   3625\u001b[0m     \u001b[38;5;66;03m# If we have a listlike key, _check_indexing_error will raise\u001b[39;00m\n\u001b[1;32m   3626\u001b[0m     \u001b[38;5;66;03m#  InvalidIndexError. Otherwise we fall through and re-raise\u001b[39;00m\n\u001b[1;32m   3627\u001b[0m     \u001b[38;5;66;03m#  the TypeError.\u001b[39;00m\n\u001b[1;32m   3628\u001b[0m     \u001b[38;5;28mself\u001b[39m\u001b[38;5;241m.\u001b[39m_check_indexing_error(key)\n",
      "\u001b[0;31mKeyError\u001b[0m: False"
     ]
    }
   ],
   "source": [
    "odf['label_1191241' in odf['label']]"
   ]
  },
  {
   "cell_type": "code",
   "execution_count": 8,
   "id": "bebf02d2-9379-45ee-970d-d5111c0a2897",
   "metadata": {},
   "outputs": [
    {
     "data": {
      "text/plain": [
       "296"
      ]
     },
     "execution_count": 8,
     "metadata": {},
     "output_type": "execute_result"
    }
   ],
   "source": [
    "len(same_groups)"
   ]
  },
  {
   "cell_type": "code",
   "execution_count": 13,
   "id": "1ace315e-7079-4cd5-8dcb-e7c6f714f7e7",
   "metadata": {},
   "outputs": [],
   "source": [
    "df = filtered_df"
   ]
  },
  {
   "cell_type": "markdown",
   "id": "dfba1ad0-1935-41d7-87f7-baa86e16dd7d",
   "metadata": {
    "tags": []
   },
   "source": [
    "# 关键词方案"
   ]
  },
  {
   "cell_type": "markdown",
   "id": "f977e2d3-9742-4b05-8fcc-3b685ab34361",
   "metadata": {},
   "source": [
    "是否存在一些句子，其中包含的关键词与标签有着极强的联系？"
   ]
  },
  {
   "cell_type": "markdown",
   "id": "de0c6d18-8c3e-43f4-9cbe-b2edd39f8ae1",
   "metadata": {},
   "source": [
    "例如对于TF家族，“超话”、“TF家族”这些词几乎是必出现的。对于某些频数没那么高的数据，也有可能存在这种情况。"
   ]
  },
  {
   "cell_type": "markdown",
   "id": "2c72a9d8-a089-4230-bb2d-7b3a8c4eac71",
   "metadata": {
    "tags": []
   },
   "source": [
    "## 分析关键词"
   ]
  },
  {
   "cell_type": "markdown",
   "id": "afac9404-2a68-4bb8-af7a-88cda8f2557e",
   "metadata": {
    "tags": []
   },
   "source": [
    "##### 寻找单个关键词的函数"
   ]
  },
  {
   "cell_type": "code",
   "execution_count": 14,
   "id": "d44d0ad6-3a98-4a19-a093-0fef9580811c",
   "metadata": {},
   "outputs": [],
   "source": [
    "# 验证一个关键词在所有句子中出现的次数\n",
    "def validate_keyword(word, sentences):\n",
    "    sentence_cnt = len(sentences)\n",
    "    appear_cnt = 0\n",
    "    for e in sentences:\n",
    "        if word in e:\n",
    "            appear_cnt += 1\n",
    "    return appear_cnt, sentence_cnt, appear_cnt / sentence_cnt if sentence_cnt != 0 else 0\n",
    "\n"
   ]
  },
  {
   "cell_type": "code",
   "execution_count": 15,
   "id": "fa78b977-3ebf-4500-aa23-cd0b974cf961",
   "metadata": {},
   "outputs": [
    {
     "data": {
      "text/plain": [
       "(0, 0, 0)"
      ]
     },
     "execution_count": 15,
     "metadata": {},
     "output_type": "execute_result"
    }
   ],
   "source": [
    "validate_keyword('左航', df[df['label'] == 'label_1191241']['text'])"
   ]
  },
  {
   "cell_type": "markdown",
   "id": "848669f7-35d9-4fc7-832e-a8a92e220abe",
   "metadata": {
    "tags": []
   },
   "source": [
    "### 观察频数最高的一批标签"
   ]
  },
  {
   "cell_type": "code",
   "execution_count": 16,
   "id": "a0e443ee-532f-4590-b88c-a09aa2db4ea3",
   "metadata": {},
   "outputs": [],
   "source": [
    "top_k = 25"
   ]
  },
  {
   "cell_type": "code",
   "execution_count": 17,
   "id": "72805e20-36cf-45dd-b625-ebd3952b9a01",
   "metadata": {},
   "outputs": [],
   "source": [
    "df_expand = filtered_df.copy().explode('label')\n",
    "df_label_cnt = df_expand['label'].value_counts()"
   ]
  },
  {
   "cell_type": "code",
   "execution_count": 18,
   "id": "1aa2f9ad-4858-43cc-9c9f-e6a5589ee1ce",
   "metadata": {},
   "outputs": [
    {
     "data": {
      "text/html": [
       "<div>\n",
       "<style scoped>\n",
       "    .dataframe tbody tr th:only-of-type {\n",
       "        vertical-align: middle;\n",
       "    }\n",
       "\n",
       "    .dataframe tbody tr th {\n",
       "        vertical-align: top;\n",
       "    }\n",
       "\n",
       "    .dataframe thead th {\n",
       "        text-align: right;\n",
       "    }\n",
       "</style>\n",
       "<table border=\"1\" class=\"dataframe\">\n",
       "  <thead>\n",
       "    <tr style=\"text-align: right;\">\n",
       "      <th></th>\n",
       "      <th>id</th>\n",
       "      <th>text</th>\n",
       "      <th>label</th>\n",
       "      <th>cnt</th>\n",
       "    </tr>\n",
       "  </thead>\n",
       "  <tbody>\n",
       "    <tr>\n",
       "      <th>1286</th>\n",
       "      <td>1286</td>\n",
       "      <td>左航ZH🎀 🎀 “喜欢海 喜欢花 喜欢日出和日落 浪漫的年纪别活的太无趣” @TF家族-左航</td>\n",
       "      <td>label_1191241</td>\n",
       "      <td>2</td>\n",
       "    </tr>\n",
       "    <tr>\n",
       "      <th>1287</th>\n",
       "      <td>1287</td>\n",
       "      <td>左航ZH超话 💕 💖  @TF家族-左航 左航丨“秋天的暖风也万物枯荣皆为你眼 我目眩神驰 ...</td>\n",
       "      <td>label_1191241</td>\n",
       "      <td>2</td>\n",
       "    </tr>\n",
       "    <tr>\n",
       "      <th>1288</th>\n",
       "      <td>1288</td>\n",
       "      <td>左航ZH超话  你就像夹心饼干间的那一点甜，是疲乏生活中的些许慰藉。 @TF家族-左航 ​</td>\n",
       "      <td>label_1191241</td>\n",
       "      <td>2</td>\n",
       "    </tr>\n",
       "    <tr>\n",
       "      <th>1289</th>\n",
       "      <td>1289</td>\n",
       "      <td>左航ZH🎀 🎀 Love will only grow stronger in the da...</td>\n",
       "      <td>label_1191241</td>\n",
       "      <td>2</td>\n",
       "    </tr>\n",
       "    <tr>\n",
       "      <th>1290</th>\n",
       "      <td>1290</td>\n",
       "      <td>左航ZH超话🎀 🎀  🌙｜𝐼 𝓀𝓃𝑜𝓌 𝒽𝑒 𝒾𝓈 𝒶𝓈 𝒻𝒶𝓇 𝒶𝓌𝒶𝓎 𝒶𝓈 𝓉𝒽𝑒 𝓂...</td>\n",
       "      <td>label_1191241</td>\n",
       "      <td>2</td>\n",
       "    </tr>\n",
       "    <tr>\n",
       "      <th>...</th>\n",
       "      <td>...</td>\n",
       "      <td>...</td>\n",
       "      <td>...</td>\n",
       "      <td>...</td>\n",
       "    </tr>\n",
       "    <tr>\n",
       "      <th>30967</th>\n",
       "      <td>30967</td>\n",
       "      <td>左航ZH💞 💙 左航永远是我的首选，也永远是我的偏爱 @TF家族-左航</td>\n",
       "      <td>label_1191241</td>\n",
       "      <td>2</td>\n",
       "    </tr>\n",
       "    <tr>\n",
       "      <th>30968</th>\n",
       "      <td>30968</td>\n",
       "      <td>左航ZH超话  @TF家族-左航 我想，能使生活美满的，只有爱情 ——《红牡丹》林语堂 ​​​</td>\n",
       "      <td>label_1191241</td>\n",
       "      <td>2</td>\n",
       "    </tr>\n",
       "    <tr>\n",
       "      <th>30969</th>\n",
       "      <td>30969</td>\n",
       "      <td>左航ZH超话💙 💙 谈什么诗和远方，我只想和你儿女情长 @TF家族-左航 ​</td>\n",
       "      <td>label_1191241</td>\n",
       "      <td>2</td>\n",
       "    </tr>\n",
       "    <tr>\n",
       "      <th>30970</th>\n",
       "      <td>30970</td>\n",
       "      <td>左航ZH超话12  “爱意在厌阳高照中灿烂 思念在星火斑斓的中沉沦” @TF家族-左航 ​​​</td>\n",
       "      <td>label_1191241</td>\n",
       "      <td>2</td>\n",
       "    </tr>\n",
       "    <tr>\n",
       "      <th>30971</th>\n",
       "      <td>30971</td>\n",
       "      <td>左航ZH超话💙 🐆 问苍茫大地，谁主沉浮？　房子是应该经常打扫的，不打扫就会积满了灰尘；脸是...</td>\n",
       "      <td>label_1191241</td>\n",
       "      <td>2</td>\n",
       "    </tr>\n",
       "  </tbody>\n",
       "</table>\n",
       "<p>10235 rows × 4 columns</p>\n",
       "</div>"
      ],
      "text/plain": [
       "          id                                               text  \\\n",
       "1286    1286     左航ZH🎀 🎀 “喜欢海 喜欢花 喜欢日出和日落 浪漫的年纪别活的太无趣” @TF家族-左航   \n",
       "1287    1287  左航ZH超话 💕 💖  @TF家族-左航 左航丨“秋天的暖风也万物枯荣皆为你眼 我目眩神驰 ...   \n",
       "1288    1288      左航ZH超话  你就像夹心饼干间的那一点甜，是疲乏生活中的些许慰藉。 @TF家族-左航 ​   \n",
       "1289    1289  左航ZH🎀 🎀 Love will only grow stronger in the da...   \n",
       "1290    1290  左航ZH超话🎀 🎀  🌙｜𝐼 𝓀𝓃𝑜𝓌 𝒽𝑒 𝒾𝓈 𝒶𝓈 𝒻𝒶𝓇 𝒶𝓌𝒶𝓎 𝒶𝓈 𝓉𝒽𝑒 𝓂...   \n",
       "...      ...                                                ...   \n",
       "30967  30967                左航ZH💞 💙 左航永远是我的首选，也永远是我的偏爱 @TF家族-左航   \n",
       "30968  30968    左航ZH超话  @TF家族-左航 我想，能使生活美满的，只有爱情 ——《红牡丹》林语堂 ​​​   \n",
       "30969  30969             左航ZH超话💙 💙 谈什么诗和远方，我只想和你儿女情长 @TF家族-左航 ​   \n",
       "30970  30970    左航ZH超话12  “爱意在厌阳高照中灿烂 思念在星火斑斓的中沉沦” @TF家族-左航 ​​​   \n",
       "30971  30971  左航ZH超话💙 🐆 问苍茫大地，谁主沉浮？　房子是应该经常打扫的，不打扫就会积满了灰尘；脸是...   \n",
       "\n",
       "               label  cnt  \n",
       "1286   label_1191241    2  \n",
       "1287   label_1191241    2  \n",
       "1288   label_1191241    2  \n",
       "1289   label_1191241    2  \n",
       "1290   label_1191241    2  \n",
       "...              ...  ...  \n",
       "30967  label_1191241    2  \n",
       "30968  label_1191241    2  \n",
       "30969  label_1191241    2  \n",
       "30970  label_1191241    2  \n",
       "30971  label_1191241    2  \n",
       "\n",
       "[10235 rows x 4 columns]"
      ]
     },
     "execution_count": 18,
     "metadata": {},
     "output_type": "execute_result"
    }
   ],
   "source": [
    "observing_rank = 0\n",
    "observing_label = df_label_cnt.index[observing_rank]\n",
    "df_expand[df_expand['label'] == observing_label]"
   ]
  },
  {
   "cell_type": "code",
   "execution_count": 19,
   "id": "3f072f01-1748-4ccd-806d-79229e2050a6",
   "metadata": {},
   "outputs": [
    {
     "data": {
      "text/plain": [
       "'label_1191241'"
      ]
     },
     "execution_count": 19,
     "metadata": {},
     "output_type": "execute_result"
    }
   ],
   "source": [
    "observing_label"
   ]
  },
  {
   "cell_type": "markdown",
   "id": "84966fb8-d890-4630-b2cc-2721ea136861",
   "metadata": {},
   "source": [
    "## 关键词抽取"
   ]
  },
  {
   "cell_type": "markdown",
   "id": "4eb18c50-5d81-49ae-ba0e-7c658b70cab6",
   "metadata": {},
   "source": [
    "先尝试每个句子一个关键词的方案，然后再看多个关键词的方案。"
   ]
  },
  {
   "cell_type": "markdown",
   "id": "0bd65ded-3c22-452d-a5d6-9d10504a3aec",
   "metadata": {},
   "source": [
    "#### 分词"
   ]
  },
  {
   "cell_type": "markdown",
   "id": "07e08ea3-4df0-465a-a441-f0d6ff672f64",
   "metadata": {},
   "source": [
    "##### 导入分词相关工具包"
   ]
  },
  {
   "cell_type": "code",
   "execution_count": 14,
   "id": "d59f1668-9609-4908-b6f3-6378a3b98dc0",
   "metadata": {},
   "outputs": [],
   "source": [
    "import jieba"
   ]
  },
  {
   "cell_type": "code",
   "execution_count": 15,
   "id": "236aba5d-ca9f-4d26-98b5-dbbf8b5ba468",
   "metadata": {},
   "outputs": [
    {
     "name": "stderr",
     "output_type": "stream",
     "text": [
      "Building prefix dict from the default dictionary ...\n",
      "Dumping model to file cache /tmp/jieba.cache\n",
      "Loading model cost 0.882 seconds.\n",
      "Prefix dict has been built successfully.\n"
     ]
    }
   ],
   "source": [
    "df_splitted = filtered_df.copy()\n",
    "df_splitted['splitted'] = df_splitted['text'].apply(lambda x: list(jieba.cut(x)))"
   ]
  },
  {
   "cell_type": "code",
   "execution_count": 16,
   "id": "67ef336b-da05-47a6-be04-3692f1deb25d",
   "metadata": {},
   "outputs": [
    {
     "data": {
      "text/html": [
       "<div>\n",
       "<style scoped>\n",
       "    .dataframe tbody tr th:only-of-type {\n",
       "        vertical-align: middle;\n",
       "    }\n",
       "\n",
       "    .dataframe tbody tr th {\n",
       "        vertical-align: top;\n",
       "    }\n",
       "\n",
       "    .dataframe thead th {\n",
       "        text-align: right;\n",
       "    }\n",
       "</style>\n",
       "<table border=\"1\" class=\"dataframe\">\n",
       "  <thead>\n",
       "    <tr style=\"text-align: right;\">\n",
       "      <th></th>\n",
       "      <th>id</th>\n",
       "      <th>text</th>\n",
       "      <th>label</th>\n",
       "      <th>splitted</th>\n",
       "    </tr>\n",
       "  </thead>\n",
       "  <tbody>\n",
       "    <tr>\n",
       "      <th>0</th>\n",
       "      <td>0</td>\n",
       "      <td>原来是这样啊，又是一个新的道理，简直让我长知识了，七星连珠是很难得的一种现象，这个解析也太到位了</td>\n",
       "      <td>[label_878402]</td>\n",
       "      <td>[原来, 是, 这样, 啊, ，, 又, 是, 一个, 新, 的, 道理, ，, 简直, 让...</td>\n",
       "    </tr>\n",
       "    <tr>\n",
       "      <th>1</th>\n",
       "      <td>1</td>\n",
       "      <td>老师好厉害，咱就是说，老师，能不能，就是，研究一下能不能穿越🙏 代入感很强，我已经想穿越去...</td>\n",
       "      <td>[label_878402]</td>\n",
       "      <td>[ , 老师, 好, 厉害, ，, 咱, 就是说, ，, 老师, ，, 能, 不能, ，, ...</td>\n",
       "    </tr>\n",
       "    <tr>\n",
       "      <th>2</th>\n",
       "      <td>2</td>\n",
       "      <td>这个七星连珠的现象居然真的存在，我只在小说上面看过，太神奇了吧，至于其他的我也不太懂，科学现...</td>\n",
       "      <td>[label_878402]</td>\n",
       "      <td>[这个, 七星, 连珠, 的, 现象, 居然, 真的, 存在, ，, 我, 只, 在, 小说...</td>\n",
       "    </tr>\n",
       "    <tr>\n",
       "      <th>3</th>\n",
       "      <td>3</td>\n",
       "      <td>应该听过张老师讲，这一个的人都会觉得特别的清晰吧，而且也明白七星连珠不会引发危害。 ​</td>\n",
       "      <td>[label_878402]</td>\n",
       "      <td>[应该, 听过, 张老师, 讲, ，, 这, 一个, 的, 人, 都, 会, 觉得, 特别,...</td>\n",
       "    </tr>\n",
       "    <tr>\n",
       "      <th>4</th>\n",
       "      <td>4</td>\n",
       "      <td>七星连珠这不是应该是天文知识吗，怎么物理也可以，学霸的世界我果然不懂啊</td>\n",
       "      <td>[label_878402]</td>\n",
       "      <td>[七星, 连珠, 这, 不是, 应该, 是, 天文, 知识, 吗, ，, 怎么, 物理, 也...</td>\n",
       "    </tr>\n",
       "    <tr>\n",
       "      <th>...</th>\n",
       "      <td>...</td>\n",
       "      <td>...</td>\n",
       "      <td>...</td>\n",
       "      <td>...</td>\n",
       "    </tr>\n",
       "    <tr>\n",
       "      <th>77309</th>\n",
       "      <td>77309</td>\n",
       "      <td>甘肃兰州2022年文化和自然遗产日主场城市活动亮点抢先看甘肃兰州2022年文化和自然遗产日主...</td>\n",
       "      <td>[label_82331]</td>\n",
       "      <td>[甘肃兰州, 2022, 年, 文化, 和, 自然遗产, 日, 主场, 城市, 活动, 亮点...</td>\n",
       "    </tr>\n",
       "    <tr>\n",
       "      <th>77310</th>\n",
       "      <td>77310</td>\n",
       "      <td>《焦点访谈》 20220611 让文物活起来 国宝自己会“说话” 《焦点访谈》 202206...</td>\n",
       "      <td>[label_82331]</td>\n",
       "      <td>[《, 焦点访谈, 》,  , 20220611,  , 让, 文物, 活, 起来,  , ...</td>\n",
       "    </tr>\n",
       "    <tr>\n",
       "      <th>77311</th>\n",
       "      <td>77311</td>\n",
       "      <td>甘肃加大农机装备力量投入“三夏”生产网页链接</td>\n",
       "      <td>[label_82331]</td>\n",
       "      <td>[甘肃, 加大, 农机, 装备, 力量, 投入, “, 三夏, ”, 生产, 网页, 链接]</td>\n",
       "    </tr>\n",
       "    <tr>\n",
       "      <th>77312</th>\n",
       "      <td>77312</td>\n",
       "      <td>小范书记们，村民都在等荐书 网页链接 ​​​</td>\n",
       "      <td>[label_82331]</td>\n",
       "      <td>[小范, 书记, 们, ，, 村民, 都, 在, 等, 荐, 书,  , 网页, 链接,  ...</td>\n",
       "    </tr>\n",
       "    <tr>\n",
       "      <th>77313</th>\n",
       "      <td>77313</td>\n",
       "      <td>主汛期洪涝、干旱风险高 甘肃坚持“宁可防空，不可空防” ​</td>\n",
       "      <td>[label_82331]</td>\n",
       "      <td>[主, 汛期, 洪涝, 、, 干旱, 风险, 高,  , 甘肃, 坚持, “, 宁可, 防空...</td>\n",
       "    </tr>\n",
       "  </tbody>\n",
       "</table>\n",
       "<p>77314 rows × 4 columns</p>\n",
       "</div>"
      ],
      "text/plain": [
       "          id                                               text  \\\n",
       "0          0   原来是这样啊，又是一个新的道理，简直让我长知识了，七星连珠是很难得的一种现象，这个解析也太到位了   \n",
       "1          1   老师好厉害，咱就是说，老师，能不能，就是，研究一下能不能穿越🙏 代入感很强，我已经想穿越去...   \n",
       "2          2  这个七星连珠的现象居然真的存在，我只在小说上面看过，太神奇了吧，至于其他的我也不太懂，科学现...   \n",
       "3          3        应该听过张老师讲，这一个的人都会觉得特别的清晰吧，而且也明白七星连珠不会引发危害。 ​   \n",
       "4          4                七星连珠这不是应该是天文知识吗，怎么物理也可以，学霸的世界我果然不懂啊   \n",
       "...      ...                                                ...   \n",
       "77309  77309  甘肃兰州2022年文化和自然遗产日主场城市活动亮点抢先看甘肃兰州2022年文化和自然遗产日主...   \n",
       "77310  77310  《焦点访谈》 20220611 让文物活起来 国宝自己会“说话” 《焦点访谈》 202206...   \n",
       "77311  77311                             甘肃加大农机装备力量投入“三夏”生产网页链接   \n",
       "77312  77312                             小范书记们，村民都在等荐书 网页链接 ​​​   \n",
       "77313  77313                      主汛期洪涝、干旱风险高 甘肃坚持“宁可防空，不可空防” ​   \n",
       "\n",
       "                label                                           splitted  \n",
       "0      [label_878402]  [原来, 是, 这样, 啊, ，, 又, 是, 一个, 新, 的, 道理, ，, 简直, 让...  \n",
       "1      [label_878402]  [ , 老师, 好, 厉害, ，, 咱, 就是说, ，, 老师, ，, 能, 不能, ，, ...  \n",
       "2      [label_878402]  [这个, 七星, 连珠, 的, 现象, 居然, 真的, 存在, ，, 我, 只, 在, 小说...  \n",
       "3      [label_878402]  [应该, 听过, 张老师, 讲, ，, 这, 一个, 的, 人, 都, 会, 觉得, 特别,...  \n",
       "4      [label_878402]  [七星, 连珠, 这, 不是, 应该, 是, 天文, 知识, 吗, ，, 怎么, 物理, 也...  \n",
       "...               ...                                                ...  \n",
       "77309   [label_82331]  [甘肃兰州, 2022, 年, 文化, 和, 自然遗产, 日, 主场, 城市, 活动, 亮点...  \n",
       "77310   [label_82331]  [《, 焦点访谈, 》,  , 20220611,  , 让, 文物, 活, 起来,  , ...  \n",
       "77311   [label_82331]     [甘肃, 加大, 农机, 装备, 力量, 投入, “, 三夏, ”, 生产, 网页, 链接]  \n",
       "77312   [label_82331]  [小范, 书记, 们, ，, 村民, 都, 在, 等, 荐, 书,  , 网页, 链接,  ...  \n",
       "77313   [label_82331]  [主, 汛期, 洪涝, 、, 干旱, 风险, 高,  , 甘肃, 坚持, “, 宁可, 防空...  \n",
       "\n",
       "[77314 rows x 4 columns]"
      ]
     },
     "execution_count": 16,
     "metadata": {},
     "output_type": "execute_result"
    }
   ],
   "source": [
    "df_splitted"
   ]
  },
  {
   "cell_type": "code",
   "execution_count": 22,
   "id": "2f90435b-e598-45db-8425-34b65b0a13a4",
   "metadata": {},
   "outputs": [
    {
     "name": "stderr",
     "output_type": "stream",
     "text": [
      "100%|██████████| 77314/77314 [02:12<00:00, 584.25it/s] \n"
     ]
    },
    {
     "data": {
      "text/plain": [
       "87875"
      ]
     },
     "execution_count": 22,
     "metadata": {},
     "output_type": "execute_result"
    }
   ],
   "source": [
    "vocabulary = set()\n",
    "for e in tqdm(df_splitted['splitted']):\n",
    "    vocabulary = vocabulary.union(set(e))\n",
    "vocabulary = sorted(list(vocabulary))\n",
    "vocabulary_idx = {x: i for i, x in enumerate(vocabulary)}\n",
    "len(vocabulary)"
   ]
  },
  {
   "cell_type": "code",
   "execution_count": 14,
   "id": "a8ffe37c-8a97-408e-8c10-b815ba3f82c5",
   "metadata": {},
   "outputs": [],
   "source": [
    "json.dump(vocabulary, open('temp_data/vocabulary.json', 'w', encoding='utf-8'))\n",
    "json.dump(vocabulary_idx, open('temp_data/vocabulary_idx.json', 'w', encoding='utf-8'))"
   ]
  },
  {
   "cell_type": "code",
   "execution_count": 73,
   "id": "738aa47d-9839-4dc8-9f42-f4ef06620e4b",
   "metadata": {},
   "outputs": [],
   "source": [
    "vocabulary = json.load(open('temp_data/vocabulary.json', 'r', encoding='utf-8'))\n",
    "vocabulary_idx = json.load(open('temp_data/vocabulary_idx.json', 'r', encoding='utf-8'))"
   ]
  },
  {
   "cell_type": "code",
   "execution_count": 15,
   "id": "edbf7c45-0882-4853-86d0-e7ac800193c7",
   "metadata": {},
   "outputs": [],
   "source": [
    "vocabulary = json.load(open('temp_data/vocabulary.json', 'r', encoding='utf-8'))\n",
    "vocabulary_idx = json.load(open('temp_data/vocabulary_idx.json', 'r', encoding='utf-8'))"
   ]
  },
  {
   "cell_type": "code",
   "execution_count": 17,
   "id": "13aae382-6bc4-4227-b3d1-b902712d8302",
   "metadata": {},
   "outputs": [
    {
     "name": "stderr",
     "output_type": "stream",
     "text": [
      "77314it [00:02, 27868.50it/s]\n"
     ]
    }
   ],
   "source": [
    "# shape=(vocab, sentence cnt)，词语在句子中的出现矩阵\n",
    "vocab_appear = np.zeros((len(vocabulary), df_splitted.shape[0]), dtype=bool)\n",
    "for i, row in tqdm(enumerate(df_splitted['splitted'])):\n",
    "    for w in row:\n",
    "        w_idx = vocabulary_idx[w]\n",
    "        vocab_appear[w_idx][i] = True\n"
   ]
  },
  {
   "cell_type": "code",
   "execution_count": 17,
   "id": "f384c18c-228d-4246-a5c2-310b19f13e15",
   "metadata": {},
   "outputs": [
    {
     "data": {
      "text/plain": [
       "77314"
      ]
     },
     "execution_count": 17,
     "metadata": {},
     "output_type": "execute_result"
    }
   ],
   "source": [
    "df_splitted.shape[0]"
   ]
  },
  {
   "cell_type": "code",
   "execution_count": 24,
   "id": "ec8e3e20-4355-4300-9ef4-90cd3e91a00e",
   "metadata": {},
   "outputs": [
    {
     "name": "stderr",
     "output_type": "stream",
     "text": [
      "100%|██████████| 77314/77314 [00:00<00:00, 198593.54it/s]\n"
     ]
    },
    {
     "data": {
      "text/plain": [
       "1023"
      ]
     },
     "execution_count": 24,
     "metadata": {},
     "output_type": "execute_result"
    }
   ],
   "source": [
    "label_vocabulary = set()\n",
    "for e in tqdm(df_splitted['label']):\n",
    "    label_vocabulary = label_vocabulary.union(set(e))\n",
    "label_vocabulary = sorted(list(label_vocabulary))\n",
    "label_vocabulary_idx = {x: i for i, x in enumerate(label_vocabulary)}\n",
    "len(label_vocabulary)"
   ]
  },
  {
   "cell_type": "code",
   "execution_count": 25,
   "id": "268645d5-19ab-40e4-b096-f6e12e52b4be",
   "metadata": {},
   "outputs": [],
   "source": [
    "json.dump(label_vocabulary, open('temp_data/label_vocabulary.json', 'w', encoding='utf-8'))\n",
    "json.dump(label_vocabulary_idx, open('temp_data/label_vocabulary_idx.json', 'w', encoding='utf-8'))"
   ]
  },
  {
   "cell_type": "code",
   "execution_count": 74,
   "id": "6dfa75f0-3cea-4a65-a9f8-cfb28dacaf3e",
   "metadata": {},
   "outputs": [],
   "source": [
    "label_vocabulary = json.load(open('temp_data/label_vocabulary.json', 'r', encoding='utf-8'))\n",
    "label_vocabulary_idx = json.load(open('temp_data/label_vocabulary_idx.json', 'r', encoding='utf-8'))"
   ]
  },
  {
   "cell_type": "code",
   "execution_count": 18,
   "id": "9cf44cb8-491a-40fd-8581-1bf4c66826b0",
   "metadata": {},
   "outputs": [
    {
     "name": "stderr",
     "output_type": "stream",
     "text": [
      "77314it [00:00, 709653.77it/s]\n"
     ]
    }
   ],
   "source": [
    "# shape=(label_vocab, sentence cnt) 标签在句子中的出现矩阵\n",
    "label_appear = np.zeros((len(label_vocabulary), df_splitted.shape[0]), dtype=bool)\n",
    "for i, row in tqdm(enumerate(df_splitted['label'])):\n",
    "    for l in row:\n",
    "        l_idx = label_vocabulary_idx[l]\n",
    "        label_appear[l_idx][i] = True"
   ]
  },
  {
   "cell_type": "code",
   "execution_count": null,
   "id": "b233a9c1-7186-4856-8554-8d8500475392",
   "metadata": {},
   "outputs": [],
   "source": [
    "# 计算词语对标签的出现\n",
    "# (vocab, sent cnt) x (sent cnt, label_vocab)\n",
    "word_in_label = np.matmul(vocab_appear, label_appear.T)"
   ]
  },
  {
   "cell_type": "code",
   "execution_count": 22,
   "id": "b3cf6fe5-db49-45ed-abcb-4c859fc4a632",
   "metadata": {},
   "outputs": [],
   "source": [
    "def frag_matmul(a, b, max_dim=100, verbose=False, use_cuda=False):\n",
    "    # a = (a1, m), b = (m, b2)\n",
    "    # 将a1和a2化为多个长为100的block\n",
    "    a_rows, b_columns = [], []\n",
    "    \n",
    "    if verbose:\n",
    "        logger.info('正在碎片化')\n",
    "    dim_a, dim_b = a.shape[0], b.shape[1]\n",
    "    a_frag_cnt = (dim_a + max_dim - 1) // max_dim\n",
    "    b_frag_cnt = (dim_b + max_dim - 1) // max_dim\n",
    "    for ia in range(a_frag_cnt):\n",
    "        a_rows.append(a[ia * max_dim: min((ia + 1) * max_dim, a.shape[0])])\n",
    "    for ib in range(b_frag_cnt):\n",
    "        b_columns.append(b[:, ib * max_dim: min((ib + 1) * max_dim, b.shape[1])])\n",
    "    \n",
    "    results = []\n",
    "    if verbose:\n",
    "        logger.info('正在将碎片进行矩阵乘法')\n",
    "    if use_cuda:\n",
    "        for i_r in tqdm(range(a_frag_cnt)):\n",
    "            results.append([])\n",
    "            for i_c in range(b_frag_cnt):\n",
    "                cur_a_row = torch.tensor(a_rows[i_r]).to(torch.float).to('cuda')\n",
    "                cur_b_column = torch.tensor(b_columns[i_c]).to(torch.float).to('cuda')\n",
    "                res = torch.matmul(cur_a_row, cur_b_column)\n",
    "                results[-1].append(np.array(res.cpu(), dtype=int))\n",
    "    else:\n",
    "        for i_r in tqdm(range(a_frag_cnt)):\n",
    "            results.append([])\n",
    "            for i_c in range(b_frag_cnt):\n",
    "                results[-1].append(np.matmul(a_rows[i_r], b_columns[i_c]))\n",
    "    \n",
    "    \n",
    "    if verbose: logger.info('正在合并碎片')\n",
    "    np_rows = []\n",
    "    for erow in tqdm(results):\n",
    "        np_rows.append(np.concatenate(erow, axis=1))\n",
    "    np_result = np.concatenate(np_rows)\n",
    "    return np_result\n",
    "    "
   ]
  },
  {
   "cell_type": "code",
   "execution_count": 19,
   "id": "ef44d323-de81-4133-b10a-0132f27eeaa6",
   "metadata": {},
   "outputs": [
    {
     "data": {
      "text/plain": [
       "((87875, 77314), (77314, 1023))"
      ]
     },
     "execution_count": 19,
     "metadata": {},
     "output_type": "execute_result"
    }
   ],
   "source": [
    "vocab_appear.shape, label_appear.T.shape"
   ]
  },
  {
   "cell_type": "code",
   "execution_count": 24,
   "id": "5840bf44-4408-4ee0-a61f-3032c2aa5380",
   "metadata": {},
   "outputs": [
    {
     "data": {
      "text/plain": [
       "(1, 77314)"
      ]
     },
     "execution_count": 24,
     "metadata": {},
     "output_type": "execute_result"
    }
   ],
   "source": [
    "vocab_appear[0:1].shape"
   ]
  },
  {
   "cell_type": "code",
   "execution_count": 23,
   "id": "51796263-ce77-492a-9007-6979fbb5aa66",
   "metadata": {},
   "outputs": [
    {
     "name": "stderr",
     "output_type": "stream",
     "text": [
      "2022-12-05 10:15:48.382 | INFO     | __main__:frag_matmul:7 - 正在碎片化\n",
      "2022-12-05 10:15:48.390 | INFO     | __main__:frag_matmul:18 - 正在将碎片进行矩阵乘法\n",
      "100%|██████████| 2930/2930 [07:47<00:00,  6.27it/s]\n",
      "2022-12-05 10:23:35.865 | INFO     | __main__:frag_matmul:34 - 正在合并碎片\n",
      "100%|██████████| 2930/2930 [00:00<00:00, 33889.02it/s]\n"
     ]
    }
   ],
   "source": [
    "word_in_label = frag_matmul(vocab_appear, label_appear.T, max_dim=30, verbose=True, use_cuda=True)"
   ]
  },
  {
   "cell_type": "code",
   "execution_count": 24,
   "id": "42c24c8a-6da8-4075-9cf5-6ee8863a5759",
   "metadata": {},
   "outputs": [
    {
     "name": "stderr",
     "output_type": "stream",
     "text": [
      "2022-12-05 10:23:36.139 | INFO     | __main__:frag_matmul:7 - 正在碎片化\n",
      "2022-12-05 10:23:36.143 | INFO     | __main__:frag_matmul:18 - 正在将碎片进行矩阵乘法\n",
      "100%|██████████| 2930/2930 [07:55<00:00,  6.16it/s]\n",
      "2022-12-05 10:31:31.608 | INFO     | __main__:frag_matmul:34 - 正在合并碎片\n",
      "100%|██████████| 2930/2930 [00:00<00:00, 35143.95it/s]\n"
     ]
    }
   ],
   "source": [
    "word_not_in_label = frag_matmul(vocab_appear, ~label_appear.T, max_dim=30, verbose=True, use_cuda=True)"
   ]
  },
  {
   "cell_type": "code",
   "execution_count": 26,
   "id": "cafc7348-8e74-4b7f-9a43-05761b876797",
   "metadata": {},
   "outputs": [],
   "source": [
    "np.save('temp_data/word_in_label', word_in_label)\n",
    "np.save('temp_data/word_not_in_label', word_not_in_label)"
   ]
  },
  {
   "cell_type": "code",
   "execution_count": 46,
   "id": "3d3801ab-c9a1-4fae-8ffb-7e8f7b88ac5c",
   "metadata": {},
   "outputs": [],
   "source": [
    "word_in_label = np.load('temp_data/word_in_label.npy')\n",
    "word_not_in_label = np.load('temp_data/word_not_in_label.npy')"
   ]
  },
  {
   "cell_type": "code",
   "execution_count": 32,
   "id": "103274a6-dde0-4b0d-b619-89d3830fda24",
   "metadata": {},
   "outputs": [
    {
     "data": {
      "text/plain": [
       "(87875, 1023)"
      ]
     },
     "execution_count": 32,
     "metadata": {},
     "output_type": "execute_result"
    }
   ],
   "source": [
    "word_in_label.shape"
   ]
  },
  {
   "cell_type": "markdown",
   "id": "17f2a442-6ef2-477a-936a-0c129dfae1ef",
   "metadata": {},
   "source": [
    "### 计算TF·IDF"
   ]
  },
  {
   "cell_type": "code",
   "execution_count": 24,
   "id": "7362d636-6e0f-474e-b9a4-260f8f4b3cc1",
   "metadata": {},
   "outputs": [],
   "source": [
    "def cal_tfidf(wi):\n",
    "    tf = wi / wi.sum(axis=0, keepdims=True)  # (vocab, label)\n",
    "    idf = np.log10(wi.shape[1] / 0.1 + (wi < 1).sum(axis=1, keepdims=True))  # (vocab)\n",
    "    tfidf = tf / idf\n",
    "    return tfidf"
   ]
  },
  {
   "cell_type": "code",
   "execution_count": 25,
   "id": "569c7bfd-acca-4f23-8523-c1d7d918b837",
   "metadata": {},
   "outputs": [],
   "source": [
    "tfidf = cal_tfidf(word_in_label)"
   ]
  },
  {
   "cell_type": "code",
   "execution_count": 39,
   "id": "af0195e1-cada-4497-84ee-88a845d0ec28",
   "metadata": {},
   "outputs": [
    {
     "data": {
      "text/plain": [
       "array([[ 444, 1296, 7990, ..., 5988,  561,  993]])"
      ]
     },
     "execution_count": 39,
     "metadata": {},
     "output_type": "execute_result"
    }
   ],
   "source": [
    "word_in_label.sum(axis=0, keepdims=True)"
   ]
  },
  {
   "cell_type": "code",
   "execution_count": 29,
   "id": "e53bc5b4-29f4-4de0-935d-1385a0ff9ed8",
   "metadata": {},
   "outputs": [],
   "source": [
    "tf = word_in_label / word_in_label.sum(axis=0, keepdims=True)"
   ]
  },
  {
   "cell_type": "code",
   "execution_count": 32,
   "id": "cce0ee69-60e7-4dd6-966e-dc584ae5b83c",
   "metadata": {},
   "outputs": [
    {
     "data": {
      "text/plain": [
       "array([[0.02477477, 0.02777778, 0.04005006, ..., 0.0497662 , 0.03565062,\n",
       "        0.03423968],\n",
       "       [0.        , 0.        , 0.        , ..., 0.        , 0.        ,\n",
       "        0.        ],\n",
       "       [0.        , 0.        , 0.        , ..., 0.000501  , 0.        ,\n",
       "        0.        ],\n",
       "       ...,\n",
       "       [0.        , 0.        , 0.        , ..., 0.        , 0.        ,\n",
       "        0.        ],\n",
       "       [0.        , 0.        , 0.        , ..., 0.        , 0.        ,\n",
       "        0.        ],\n",
       "       [0.        , 0.        , 0.        , ..., 0.        , 0.        ,\n",
       "        0.        ]])"
      ]
     },
     "execution_count": 32,
     "metadata": {},
     "output_type": "execute_result"
    }
   ],
   "source": [
    "tf"
   ]
  },
  {
   "cell_type": "code",
   "execution_count": 33,
   "id": "50fb83ad-8fe8-475b-a9c1-ec356db2718c",
   "metadata": {},
   "outputs": [],
   "source": [
    "idf = np.log10(word_in_label.shape[1] / 0.1 + (word_in_label < 1).sum(axis=1, keepdims=True))"
   ]
  },
  {
   "cell_type": "code",
   "execution_count": 36,
   "id": "29db827a-2223-44e0-80d3-9e660b75c261",
   "metadata": {},
   "outputs": [
    {
     "data": {
      "text/plain": [
       "4.00987563371216"
      ]
     },
     "execution_count": 36,
     "metadata": {},
     "output_type": "execute_result"
    }
   ],
   "source": []
  },
  {
   "cell_type": "markdown",
   "id": "8cd5a1f1-5d9d-48d4-8c5b-1abe90a007a6",
   "metadata": {},
   "source": [
    "### 计算出现几率"
   ]
  },
  {
   "cell_type": "code",
   "execution_count": 68,
   "id": "41deb655-5f83-4dc8-9482-39b8fe89bd4e",
   "metadata": {},
   "outputs": [],
   "source": [
    "word_importance = word_in_label / (word_not_in_label + 0.9)"
   ]
  },
  {
   "cell_type": "code",
   "execution_count": 69,
   "id": "4a090e9f-df84-462a-8e17-b87247184530",
   "metadata": {},
   "outputs": [],
   "source": [
    "threshold = 100"
   ]
  },
  {
   "cell_type": "code",
   "execution_count": 82,
   "id": "396b016b-e806-426a-a605-034a9f5d3039",
   "metadata": {},
   "outputs": [],
   "source": [
    "pos = np.where(word_importance > threshold)\n",
    "keywords = []\n",
    "for x, y in zip(pos[0], pos[1]):\n",
    "    v = word_importance[x][y]\n",
    "    word = vocabulary[x]\n",
    "    label_ = label_vocabulary[y]\n",
    "    keywords.append({\n",
    "        'importance': v,\n",
    "        'word': word,\n",
    "        'label': label_\n",
    "    })\n",
    "keywords = pd.DataFrame(keywords)\n",
    "keywords = keywords.sort_values(by='importance')"
   ]
  },
  {
   "cell_type": "code",
   "execution_count": 87,
   "id": "92256c8a-351e-4c88-a9d7-9baccd33df88",
   "metadata": {},
   "outputs": [
    {
     "data": {
      "text/html": [
       "<div>\n",
       "<style scoped>\n",
       "    .dataframe tbody tr th:only-of-type {\n",
       "        vertical-align: middle;\n",
       "    }\n",
       "\n",
       "    .dataframe tbody tr th {\n",
       "        vertical-align: top;\n",
       "    }\n",
       "\n",
       "    .dataframe thead th {\n",
       "        text-align: right;\n",
       "    }\n",
       "</style>\n",
       "<table border=\"1\" class=\"dataframe\">\n",
       "  <thead>\n",
       "    <tr style=\"text-align: right;\">\n",
       "      <th></th>\n",
       "      <th>importance</th>\n",
       "      <th>word</th>\n",
       "      <th>label</th>\n",
       "    </tr>\n",
       "  </thead>\n",
       "  <tbody>\n",
       "    <tr>\n",
       "      <th>125</th>\n",
       "      <td>346.666667</td>\n",
       "      <td>铉</td>\n",
       "      <td>label_1253103</td>\n",
       "    </tr>\n",
       "    <tr>\n",
       "      <th>90</th>\n",
       "      <td>348.421053</td>\n",
       "      <td>日产</td>\n",
       "      <td>label_1470555</td>\n",
       "    </tr>\n",
       "    <tr>\n",
       "      <th>33</th>\n",
       "      <td>353.333333</td>\n",
       "      <td>hhj</td>\n",
       "      <td>label_1253103</td>\n",
       "    </tr>\n",
       "    <tr>\n",
       "      <th>110</th>\n",
       "      <td>367.777778</td>\n",
       "      <td>红酒</td>\n",
       "      <td>label_477040</td>\n",
       "    </tr>\n",
       "    <tr>\n",
       "      <th>109</th>\n",
       "      <td>367.777778</td>\n",
       "      <td>红酒</td>\n",
       "      <td>label_1305232</td>\n",
       "    </tr>\n",
       "    <tr>\n",
       "      <th>132</th>\n",
       "      <td>407.894737</td>\n",
       "      <td>🐆</td>\n",
       "      <td>label_1008181</td>\n",
       "    </tr>\n",
       "    <tr>\n",
       "      <th>3</th>\n",
       "      <td>413.333333</td>\n",
       "      <td>Anpanman</td>\n",
       "      <td>label_477040</td>\n",
       "    </tr>\n",
       "    <tr>\n",
       "      <th>2</th>\n",
       "      <td>413.333333</td>\n",
       "      <td>Anpanman</td>\n",
       "      <td>label_1305232</td>\n",
       "    </tr>\n",
       "    <tr>\n",
       "      <th>140</th>\n",
       "      <td>433.793103</td>\n",
       "      <td>🪐</td>\n",
       "      <td>label_1008181</td>\n",
       "    </tr>\n",
       "    <tr>\n",
       "      <th>141</th>\n",
       "      <td>433.793103</td>\n",
       "      <td>🪐</td>\n",
       "      <td>label_1204775</td>\n",
       "    </tr>\n",
       "    <tr>\n",
       "      <th>104</th>\n",
       "      <td>493.333333</td>\n",
       "      <td>电驱版</td>\n",
       "      <td>label_1470555</td>\n",
       "    </tr>\n",
       "    <tr>\n",
       "      <th>65</th>\n",
       "      <td>511.111111</td>\n",
       "      <td>声压</td>\n",
       "      <td>label_477040</td>\n",
       "    </tr>\n",
       "    <tr>\n",
       "      <th>64</th>\n",
       "      <td>511.111111</td>\n",
       "      <td>声压</td>\n",
       "      <td>label_1305232</td>\n",
       "    </tr>\n",
       "    <tr>\n",
       "      <th>121</th>\n",
       "      <td>522.222222</td>\n",
       "      <td>轩逸</td>\n",
       "      <td>label_1470555</td>\n",
       "    </tr>\n",
       "    <tr>\n",
       "      <th>37</th>\n",
       "      <td>653.333333</td>\n",
       "      <td>offgun</td>\n",
       "      <td>label_1531318</td>\n",
       "    </tr>\n",
       "    <tr>\n",
       "      <th>14</th>\n",
       "      <td>691.052632</td>\n",
       "      <td>FOCUS</td>\n",
       "      <td>label_477040</td>\n",
       "    </tr>\n",
       "    <tr>\n",
       "      <th>13</th>\n",
       "      <td>691.052632</td>\n",
       "      <td>FOCUS</td>\n",
       "      <td>label_1305232</td>\n",
       "    </tr>\n",
       "    <tr>\n",
       "      <th>12</th>\n",
       "      <td>783.333333</td>\n",
       "      <td>Echolocation</td>\n",
       "      <td>label_477040</td>\n",
       "    </tr>\n",
       "    <tr>\n",
       "      <th>11</th>\n",
       "      <td>783.333333</td>\n",
       "      <td>Echolocation</td>\n",
       "      <td>label_1305232</td>\n",
       "    </tr>\n",
       "    <tr>\n",
       "      <th>114</th>\n",
       "      <td>843.333333</td>\n",
       "      <td>萬事屋</td>\n",
       "      <td>label_477040</td>\n",
       "    </tr>\n",
       "    <tr>\n",
       "      <th>113</th>\n",
       "      <td>843.333333</td>\n",
       "      <td>萬事屋</td>\n",
       "      <td>label_1305232</td>\n",
       "    </tr>\n",
       "    <tr>\n",
       "      <th>85</th>\n",
       "      <td>843.333333</td>\n",
       "      <td>张极个</td>\n",
       "      <td>label_477040</td>\n",
       "    </tr>\n",
       "    <tr>\n",
       "      <th>84</th>\n",
       "      <td>843.333333</td>\n",
       "      <td>张极个</td>\n",
       "      <td>label_1305232</td>\n",
       "    </tr>\n",
       "    <tr>\n",
       "      <th>133</th>\n",
       "      <td>862.222222</td>\n",
       "      <td>🐆</td>\n",
       "      <td>label_1204775</td>\n",
       "    </tr>\n",
       "    <tr>\n",
       "      <th>26</th>\n",
       "      <td>896.666667</td>\n",
       "      <td>Vapanman</td>\n",
       "      <td>label_477040</td>\n",
       "    </tr>\n",
       "    <tr>\n",
       "      <th>25</th>\n",
       "      <td>896.666667</td>\n",
       "      <td>Vapanman</td>\n",
       "      <td>label_1305232</td>\n",
       "    </tr>\n",
       "    <tr>\n",
       "      <th>78</th>\n",
       "      <td>1033.737374</td>\n",
       "      <td>左航</td>\n",
       "      <td>label_1204775</td>\n",
       "    </tr>\n",
       "    <tr>\n",
       "      <th>68</th>\n",
       "      <td>1177.777778</td>\n",
       "      <td>孙亦航</td>\n",
       "      <td>label_1173572</td>\n",
       "    </tr>\n",
       "    <tr>\n",
       "      <th>53</th>\n",
       "      <td>2116.666667</td>\n",
       "      <td>一较高低</td>\n",
       "      <td>label_1439025</td>\n",
       "    </tr>\n",
       "    <tr>\n",
       "      <th>28</th>\n",
       "      <td>5072.631579</td>\n",
       "      <td>ZH</td>\n",
       "      <td>label_1204775</td>\n",
       "    </tr>\n",
       "  </tbody>\n",
       "</table>\n",
       "</div>"
      ],
      "text/plain": [
       "      importance          word          label\n",
       "125   346.666667             铉  label_1253103\n",
       "90    348.421053            日产  label_1470555\n",
       "33    353.333333           hhj  label_1253103\n",
       "110   367.777778            红酒   label_477040\n",
       "109   367.777778            红酒  label_1305232\n",
       "132   407.894737             🐆  label_1008181\n",
       "3     413.333333      Anpanman   label_477040\n",
       "2     413.333333      Anpanman  label_1305232\n",
       "140   433.793103             🪐  label_1008181\n",
       "141   433.793103             🪐  label_1204775\n",
       "104   493.333333           电驱版  label_1470555\n",
       "65    511.111111            声压   label_477040\n",
       "64    511.111111            声压  label_1305232\n",
       "121   522.222222            轩逸  label_1470555\n",
       "37    653.333333        offgun  label_1531318\n",
       "14    691.052632         FOCUS   label_477040\n",
       "13    691.052632         FOCUS  label_1305232\n",
       "12    783.333333  Echolocation   label_477040\n",
       "11    783.333333  Echolocation  label_1305232\n",
       "114   843.333333           萬事屋   label_477040\n",
       "113   843.333333           萬事屋  label_1305232\n",
       "85    843.333333           张极个   label_477040\n",
       "84    843.333333           张极个  label_1305232\n",
       "133   862.222222             🐆  label_1204775\n",
       "26    896.666667      Vapanman   label_477040\n",
       "25    896.666667      Vapanman  label_1305232\n",
       "78   1033.737374            左航  label_1204775\n",
       "68   1177.777778           孙亦航  label_1173572\n",
       "53   2116.666667          一较高低  label_1439025\n",
       "28   5072.631579            ZH  label_1204775"
      ]
     },
     "execution_count": 87,
     "metadata": {},
     "output_type": "execute_result"
    }
   ],
   "source": [
    "keywords.tail(30)"
   ]
  },
  {
   "cell_type": "markdown",
   "id": "ce47a827-ac08-4319-bbf7-62783f2e65b7",
   "metadata": {},
   "source": [
    "### 利用规则选取"
   ]
  },
  {
   "cell_type": "code",
   "execution_count": 116,
   "id": "a95a8e00-dd2d-4648-acc7-46f9cca32b4c",
   "metadata": {},
   "outputs": [],
   "source": [
    "labels = filtered_df.copy().explode('label')\n",
    "total = labels.shape[0]\n",
    "label_cnt = labels.value_counts('label').sort_values().to_numpy()"
   ]
  },
  {
   "cell_type": "code",
   "execution_count": 117,
   "id": "05a87547-1eec-47a3-9b49-313b289e3c79",
   "metadata": {},
   "outputs": [
    {
     "data": {
      "text/plain": [
       "1023"
      ]
     },
     "execution_count": 117,
     "metadata": {},
     "output_type": "execute_result"
    }
   ],
   "source": [
    "len(label_cnt)"
   ]
  },
  {
   "cell_type": "code",
   "execution_count": 123,
   "id": "117127a1-d9b5-4564-8f1b-cd1effcb1d47",
   "metadata": {},
   "outputs": [],
   "source": [
    "# word_in_label (vocab size, label cnt)\n",
    "pos_flag = (word_in_label / np.expand_dims(label_cnt, 0))\n",
    "neg_flag = (word_not_in_label / (total - np.expand_dims(label_cnt, 0)))"
   ]
  },
  {
   "cell_type": "code",
   "execution_count": 136,
   "id": "da59e6ba-a5b7-44dc-a396-5e75fc0c1f6b",
   "metadata": {},
   "outputs": [],
   "source": [
    "word_available = (pos_flag > 0.999) & (neg_flag < 0.00005)"
   ]
  },
  {
   "cell_type": "code",
   "execution_count": 138,
   "id": "ce58bed0-0881-461b-8e2a-135231f23d66",
   "metadata": {},
   "outputs": [
    {
     "data": {
      "text/plain": [
       "9874"
      ]
     },
     "execution_count": 138,
     "metadata": {},
     "output_type": "execute_result"
    }
   ],
   "source": [
    "word_available.sum()"
   ]
  },
  {
   "cell_type": "code",
   "execution_count": 139,
   "id": "2c735641-9a86-4658-b47c-c5bc04b88157",
   "metadata": {},
   "outputs": [],
   "source": [
    "def extract_keywords(ma):\n",
    "    pos = np.where(ma)\n",
    "    kwords = []\n",
    "    for x, y in zip(pos[0], pos[1]):\n",
    "        v = ma[x][y]\n",
    "        word = vocabulary[x]\n",
    "        label_ = label_vocabulary[y]\n",
    "        kwords.append({\n",
    "            'word': word,\n",
    "            'label': label_\n",
    "        })\n",
    "    kwords = pd.DataFrame(kwords)\n",
    "    return kwords"
   ]
  },
  {
   "cell_type": "code",
   "execution_count": 140,
   "id": "60be4bae-72a4-47d8-9e9a-4c217ace6696",
   "metadata": {},
   "outputs": [],
   "source": [
    "akwords = extract_keywords(word_available)"
   ]
  },
  {
   "cell_type": "code",
   "execution_count": 141,
   "id": "72f07d3e-4dfe-4330-bbfe-fe445e3614ed",
   "metadata": {},
   "outputs": [
    {
     "data": {
      "text/html": [
       "<div>\n",
       "<style scoped>\n",
       "    .dataframe tbody tr th:only-of-type {\n",
       "        vertical-align: middle;\n",
       "    }\n",
       "\n",
       "    .dataframe tbody tr th {\n",
       "        vertical-align: top;\n",
       "    }\n",
       "\n",
       "    .dataframe thead th {\n",
       "        text-align: right;\n",
       "    }\n",
       "</style>\n",
       "<table border=\"1\" class=\"dataframe\">\n",
       "  <thead>\n",
       "    <tr style=\"text-align: right;\">\n",
       "      <th></th>\n",
       "      <th>word</th>\n",
       "      <th>label</th>\n",
       "    </tr>\n",
       "  </thead>\n",
       "  <tbody>\n",
       "    <tr>\n",
       "      <th>0</th>\n",
       "      <td>-----</td>\n",
       "      <td>label_1008181</td>\n",
       "    </tr>\n",
       "    <tr>\n",
       "      <th>1</th>\n",
       "      <td>-------</td>\n",
       "      <td>label_1008181</td>\n",
       "    </tr>\n",
       "    <tr>\n",
       "      <th>2</th>\n",
       "      <td>--------</td>\n",
       "      <td>label_1008181</td>\n",
       "    </tr>\n",
       "    <tr>\n",
       "      <th>3</th>\n",
       "      <td>---------</td>\n",
       "      <td>label_1008181</td>\n",
       "    </tr>\n",
       "    <tr>\n",
       "      <th>4</th>\n",
       "      <td>----------</td>\n",
       "      <td>label_1008181</td>\n",
       "    </tr>\n",
       "    <tr>\n",
       "      <th>...</th>\n",
       "      <td>...</td>\n",
       "      <td>...</td>\n",
       "    </tr>\n",
       "    <tr>\n",
       "      <th>9869</th>\n",
       "      <td>🪂</td>\n",
       "      <td>label_1003895</td>\n",
       "    </tr>\n",
       "    <tr>\n",
       "      <th>9870</th>\n",
       "      <td>🪐</td>\n",
       "      <td>label_1008181</td>\n",
       "    </tr>\n",
       "    <tr>\n",
       "      <th>9871</th>\n",
       "      <td>🪐</td>\n",
       "      <td>label_1204775</td>\n",
       "    </tr>\n",
       "    <tr>\n",
       "      <th>9872</th>\n",
       "      <td>🫐</td>\n",
       "      <td>label_1008181</td>\n",
       "    </tr>\n",
       "    <tr>\n",
       "      <th>9873</th>\n",
       "      <td>🫡</td>\n",
       "      <td>label_1008181</td>\n",
       "    </tr>\n",
       "  </tbody>\n",
       "</table>\n",
       "<p>9874 rows × 2 columns</p>\n",
       "</div>"
      ],
      "text/plain": [
       "            word          label\n",
       "0          -----  label_1008181\n",
       "1        -------  label_1008181\n",
       "2       --------  label_1008181\n",
       "3      ---------  label_1008181\n",
       "4     ----------  label_1008181\n",
       "...          ...            ...\n",
       "9869           🪂  label_1003895\n",
       "9870           🪐  label_1008181\n",
       "9871           🪐  label_1204775\n",
       "9872           🫐  label_1008181\n",
       "9873           🫡  label_1008181\n",
       "\n",
       "[9874 rows x 2 columns]"
      ]
     },
     "execution_count": 141,
     "metadata": {},
     "output_type": "execute_result"
    }
   ],
   "source": [
    "akwords"
   ]
  },
  {
   "cell_type": "code",
   "execution_count": null,
   "id": "e3e559ad-1b2d-47f4-92fc-b20fa79b378c",
   "metadata": {},
   "outputs": [],
   "source": []
  },
  {
   "cell_type": "markdown",
   "id": "fcf80911-c71b-4b67-bbd8-0f81765b77c1",
   "metadata": {},
   "source": [
    "## 利用关键词进行分类"
   ]
  },
  {
   "cell_type": "code",
   "execution_count": 88,
   "id": "508f8219-47bd-415d-bfa8-ea77180e6eec",
   "metadata": {},
   "outputs": [],
   "source": [
    "class KeywordClassifier:\n",
    "    def __init__(self, kw2cls: dict):\n",
    "        \"\"\"\n",
    "        :param kw2cls: 一个关键词对应一个类别 word -> class\n",
    "            分类时，会遍历该dict，并且使用第一个匹配到的结果\n",
    "        \"\"\"\n",
    "        self.keywd2class = kw2cls\n",
    "    \n",
    "    def predict(self, sentence: str):\n",
    "        for k, v in self.keywd2class.items():\n",
    "            if k in sentence:\n",
    "                return v\n",
    "        return None"
   ]
  },
  {
   "cell_type": "code",
   "execution_count": null,
   "id": "f67ecb0a-705f-4dca-ba33-dcb527742575",
   "metadata": {},
   "outputs": [],
   "source": []
  }
 ],
 "metadata": {
  "kernelspec": {
   "display_name": "Python 3",
   "language": "python",
   "name": "python3"
  },
  "language_info": {
   "codemirror_mode": {
    "name": "ipython",
    "version": 3
   },
   "file_extension": ".py",
   "mimetype": "text/x-python",
   "name": "python",
   "nbconvert_exporter": "python",
   "pygments_lexer": "ipython3",
   "version": "3.8.10"
  },
  "toc-autonumbering": true,
  "toc-showcode": false,
  "toc-showmarkdowntxt": false
 },
 "nbformat": 4,
 "nbformat_minor": 5
}
